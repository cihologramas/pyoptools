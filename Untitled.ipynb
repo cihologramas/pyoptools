{
 "cells": [
  {
   "cell_type": "markdown",
   "metadata": {},
   "source": [
    "## Wave propagation\n",
    "\n",
    "When considerig light as a wave calculations through optical systems get heavy this is why the class *surfaces* allow to calculate wavefronts from rays.\n",
    "\n",
    "pw_propagate(self, Ray ri,ni,nr, rsamples, shape, order,z):\n",
    "        '''Method to calculate wavefront emerging from the surface\n",
    "        This method calculates the wavefront emerging from the optical surface\n",
    "        when illuminated by an unity amplitude plane wave. \n",
    "        The k vector of the incoming PW is given by the direction of ri. \n",
    "        The wavelength of the PW is given by the wavelength of ri.\n",
    "        The origin of ri is not used at all.\n",
    "               \n",
    "        Arguments:\n",
    "        \n",
    "             ri -- surface incident ray\n",
    "             \n",
    "             ni -- refraction index in the incident media n.\n",
    "             \n",
    "             nr -- refraction index in the refracted media\n",
    "             \n",
    "             rsamples -- number of rays used to sample the surface\n",
    "             \n",
    "             shape -- shape of the output wavefront\n",
    "             \n",
    "             order -- order of the polynomial fit\n",
    "             \n",
    "             z -- Z position of the input and output plane. The origin is the surface vertex\n",
    "        ri must be in the coordinate system of the surface\n",
    "        Note: The ray comes from the negative side. Need to change this\n",
    "        '''\n"
   ]
  },
  {
   "cell_type": "code",
   "execution_count": 1,
   "metadata": {},
   "outputs": [
    {
     "name": "stdout",
     "output_type": "stream",
     "text": [
      "('Loading component library', 'Edmund', ' from files ', ['/home/wcamilo96/anaconda2/envs/pyoptools-env/lib/python2.7/site-packages/pyoptools-0.1.1-py2.7-linux-x86_64.egg/pyoptools/raytrace/library/Edmund/SphOptics.cmp', '/home/wcamilo96/anaconda2/envs/pyoptools-env/lib/python2.7/site-packages/pyoptools-0.1.1-py2.7-linux-x86_64.egg/pyoptools/raytrace/library/Edmund/SphOptics1.cmp'])\n"
     ]
    }
   ],
   "source": [
    "from pyoptools.all import *"
   ]
  },
  {
   "cell_type": "code",
   "execution_count": 4,
   "metadata": {},
   "outputs": [
    {
     "ename": "ImportError",
     "evalue": "No module named ray_trace.surface",
     "output_type": "error",
     "traceback": [
      "\u001b[0;31m---------------------------------------------------------------------------\u001b[0m",
      "\u001b[0;31mImportError\u001b[0m                               Traceback (most recent call last)",
      "\u001b[0;32m<ipython-input-4-9347b2bf1cd8>\u001b[0m in \u001b[0;36m<module>\u001b[0;34m()\u001b[0m\n\u001b[1;32m      5\u001b[0m \u001b[0;34m\u001b[0m\u001b[0m\n\u001b[1;32m      6\u001b[0m \u001b[0;34m\u001b[0m\u001b[0m\n\u001b[0;32m----> 7\u001b[0;31m \u001b[0mS\u001b[0m\u001b[0;34m.\u001b[0m\u001b[0mpw_propagate\u001b[0m\u001b[0;34m(\u001b[0m\u001b[0mR\u001b[0m\u001b[0;34m,\u001b[0m\u001b[0;36m1.\u001b[0m\u001b[0;34m,\u001b[0m\u001b[0;36m1.\u001b[0m\u001b[0;34m,\u001b[0m \u001b[0;36m10\u001b[0m\u001b[0;34m,\u001b[0m \u001b[0mCircular\u001b[0m\u001b[0;34m,\u001b[0m \u001b[0;36m3\u001b[0m\u001b[0;34m,\u001b[0m \u001b[0;36m0\u001b[0m\u001b[0;34m)\u001b[0m\u001b[0;34m\u001b[0m\u001b[0m\n\u001b[0m\u001b[1;32m      8\u001b[0m \u001b[0;34m\u001b[0m\u001b[0m\n",
      "\u001b[0;32mpyoptools/raytrace/surface/surface.pyx\u001b[0m in \u001b[0;36mpyoptools.raytrace.surface.surface.Surface.pw_propagate\u001b[0;34m()\u001b[0m\n",
      "\u001b[0;32mpyoptools/raytrace/surface/surface.pyx\u001b[0m in \u001b[0;36mpyoptools.raytrace.surface.surface.Surface.pw_propagate\u001b[0;34m()\u001b[0m\n",
      "\u001b[0;31mImportError\u001b[0m: No module named ray_trace.surface"
     ]
    }
   ],
   "source": [
    "R=Ray(pos=(0,0,0),dir=(0,0,1),wavelength=0.55)\n",
    "S=Spherical(curvature=1/300., shape=Circular(radius=145.),reflectivity=1)\n",
    "\n",
    "Plot3D(S,center=(0,0,0),size=(400,400),rot=[(0,-pi/1.9,0)],scale=1)\n",
    "\n",
    "\n",
    "S.pw_propagate(R,1.,1., 10, Circular, 3, 0)\n",
    "\n"
   ]
  },
  {
   "cell_type": "code",
   "execution_count": 22,
   "metadata": {},
   "outputs": [
    {
     "data": {
      "text/plain": [
       "(array([-11.44574878,  11.44574878, -34.33724633, -11.59549959,\n",
       "         11.59549959,  34.33724633, -34.33724633, -11.59549959,\n",
       "         11.59549959,  34.33724633, -11.44574878,  11.44574878]),\n",
       " array([-34.33724633, -34.33724633, -11.44574878, -11.59549959,\n",
       "        -11.59549959, -11.44574878,  11.44574878,  11.59549959,\n",
       "         11.59549959,  11.44574878,  34.33724633,  34.33724633]),\n",
       " array([-187.29511074, -187.29511074, -187.29511074, -197.32871679,\n",
       "        -197.32871679, -187.29511074, -187.29511074, -197.32871679,\n",
       "        -197.32871679, -187.29511074, -187.29511074, -187.29511074]))"
      ]
     },
     "execution_count": 22,
     "metadata": {},
     "output_type": "execute_result"
    }
   ],
   "source": [
    "R=Ray(pos=(0,0,0),dir=(0,0,1),wavelength=0.55)\n",
    "S=Spherical(curvature=1/300., shape=Circular(radius=145.),reflectivity=1)\n",
    "\n",
    "#display(Plot3D(S,center=(0,0,0),size=(400,400),rot=[(0,-pi/1.9,0)],scale=1))\n",
    "\n",
    "\n",
    "#S.pw_propagate(R,1.,1., 10, Circular, 3, 0)\n",
    "\n",
    "S.pw_propagate_list(R,1.,1., (5,5), 100)\n"
   ]
  },
  {
   "cell_type": "code",
   "execution_count": null,
   "metadata": {},
   "outputs": [],
   "source": []
  },
  {
   "cell_type": "markdown",
   "metadata": {},
   "source": [
    "## Optical fields\n",
    "\n",
    "_rs_kernel(self, np.ndarray[np.float64_t, ndim=2]x, np.ndarray[np.float64_t, ndim=2] y, double z, double n):\n",
    "        \"\"\"Calculate the Rayleigh Sommerfeld propagation Kernel, for a source point\n",
    "        at the origin, and a observation point at (x,y,z)\n",
    "        \"\"\"\n",
    "        \n",
    "         The field data can be given as a numpy complex array, or as a set of \n",
    "    2 images, one containing the amplitude of the field, and the other \n",
    "    containing the phase of the field. The amp_n, and the ph_n attributes \n",
    "    are used to normalize the field. If the images are color images, they \n",
    "    are flattened to produce a grayscale image. See: scipy.misc.imread\n",
    "    \"\"\"\n",
    "    cdef public object data,psize\n",
    "    cdef public double l\n",
    "def __init__(self,data=None,psize=(10e-3,10e-3), l=442e-6,amp_im=None,ph_im=None, amp_n=1/255., ph_n=2*pi/255.)"
   ]
  },
  {
   "cell_type": "code",
   "execution_count": 61,
   "metadata": {},
   "outputs": [
    {
     "name": "stdout",
     "output_type": "stream",
     "text": [
      "Warning: The phase is not being cached. Need to fix this\n",
      "[[ 1.34649093  1.33355949]\n",
      " [ 1.31963091  1.30601035]]\n"
     ]
    }
   ],
   "source": [
    "a=np.array([[1+1.j, 2], [3, 4]], dtype=complex)\n",
    "\n",
    "F=Field(a)\n",
    "\n",
    "print ((F.propagate_rsc_sc(10,scale=(1,1)).phase))\n",
    "\n",
    "\n",
    "#print(a[0][0])\n",
    "#F=Field()"
   ]
  },
  {
   "cell_type": "code",
   "execution_count": 67,
   "metadata": {},
   "outputs": [],
   "source": [
    "from IPython.display import Image\n",
    "I=Image(\"prueba.pgm\")\n",
    "\n",
    "F2=Field(I,I)"
   ]
  },
  {
   "cell_type": "code",
   "execution_count": 81,
   "metadata": {},
   "outputs": [
    {
     "ename": "IOError",
     "evalue": "cannot identify image file 'prueba'",
     "output_type": "error",
     "traceback": [
      "\u001b[0;31m---------------------------------------------------------------------------\u001b[0m",
      "\u001b[0;31mIOError\u001b[0m                                   Traceback (most recent call last)",
      "\u001b[0;32m<ipython-input-81-4ba8c515479e>\u001b[0m in \u001b[0;36m<module>\u001b[0;34m()\u001b[0m\n\u001b[1;32m      4\u001b[0m \u001b[0mget_ipython\u001b[0m\u001b[0;34m(\u001b[0m\u001b[0;34m)\u001b[0m\u001b[0;34m.\u001b[0m\u001b[0mmagic\u001b[0m\u001b[0;34m(\u001b[0m\u001b[0;34mu'matplotlib inline'\u001b[0m\u001b[0;34m)\u001b[0m\u001b[0;34m\u001b[0m\u001b[0m\n\u001b[1;32m      5\u001b[0m \u001b[0;32mimport\u001b[0m \u001b[0mmatplotlib\u001b[0m\u001b[0;34m.\u001b[0m\u001b[0mimage\u001b[0m \u001b[0;32mas\u001b[0m \u001b[0mmpimg\u001b[0m\u001b[0;34m\u001b[0m\u001b[0m\n\u001b[0;32m----> 6\u001b[0;31m \u001b[0mimg\u001b[0m\u001b[0;34m=\u001b[0m\u001b[0mmpimg\u001b[0m\u001b[0;34m.\u001b[0m\u001b[0mimread\u001b[0m\u001b[0;34m(\u001b[0m\u001b[0;34m'prueba'\u001b[0m\u001b[0;34m)\u001b[0m\u001b[0;34m\u001b[0m\u001b[0m\n\u001b[0m",
      "\u001b[0;32m/home/wcamilo96/anaconda2/envs/pyoptools-env/lib/python2.7/site-packages/matplotlib/image.pyc\u001b[0m in \u001b[0;36mimread\u001b[0;34m(fname, format)\u001b[0m\n\u001b[1;32m   1276\u001b[0m \u001b[0;34m\u001b[0m\u001b[0m\n\u001b[1;32m   1277\u001b[0m     \u001b[0;32mif\u001b[0m \u001b[0mext\u001b[0m \u001b[0;32mnot\u001b[0m \u001b[0;32min\u001b[0m \u001b[0mhandlers\u001b[0m\u001b[0;34m:\u001b[0m\u001b[0;34m\u001b[0m\u001b[0m\n\u001b[0;32m-> 1278\u001b[0;31m         \u001b[0mim\u001b[0m \u001b[0;34m=\u001b[0m \u001b[0mpilread\u001b[0m\u001b[0;34m(\u001b[0m\u001b[0mfname\u001b[0m\u001b[0;34m)\u001b[0m\u001b[0;34m\u001b[0m\u001b[0m\n\u001b[0m\u001b[1;32m   1279\u001b[0m         \u001b[0;32mif\u001b[0m \u001b[0mim\u001b[0m \u001b[0;32mis\u001b[0m \u001b[0mNone\u001b[0m\u001b[0;34m:\u001b[0m\u001b[0;34m\u001b[0m\u001b[0m\n\u001b[1;32m   1280\u001b[0m             raise ValueError('Only know how to handle extensions: %s; '\n",
      "\u001b[0;32m/home/wcamilo96/anaconda2/envs/pyoptools-env/lib/python2.7/site-packages/matplotlib/image.pyc\u001b[0m in \u001b[0;36mpilread\u001b[0;34m(fname)\u001b[0m\n\u001b[1;32m   1254\u001b[0m         \u001b[0;32mexcept\u001b[0m \u001b[0mImportError\u001b[0m\u001b[0;34m:\u001b[0m\u001b[0;34m\u001b[0m\u001b[0m\n\u001b[1;32m   1255\u001b[0m             \u001b[0;32mreturn\u001b[0m \u001b[0mNone\u001b[0m\u001b[0;34m\u001b[0m\u001b[0m\n\u001b[0;32m-> 1256\u001b[0;31m         \u001b[0;32mwith\u001b[0m \u001b[0mImage\u001b[0m\u001b[0;34m.\u001b[0m\u001b[0mopen\u001b[0m\u001b[0;34m(\u001b[0m\u001b[0mfname\u001b[0m\u001b[0;34m)\u001b[0m \u001b[0;32mas\u001b[0m \u001b[0mimage\u001b[0m\u001b[0;34m:\u001b[0m\u001b[0;34m\u001b[0m\u001b[0m\n\u001b[0m\u001b[1;32m   1257\u001b[0m             \u001b[0;32mreturn\u001b[0m \u001b[0mpil_to_array\u001b[0m\u001b[0;34m(\u001b[0m\u001b[0mimage\u001b[0m\u001b[0;34m)\u001b[0m\u001b[0;34m\u001b[0m\u001b[0m\n\u001b[1;32m   1258\u001b[0m \u001b[0;34m\u001b[0m\u001b[0m\n",
      "\u001b[0;32m/home/wcamilo96/anaconda2/envs/pyoptools-env/lib/python2.7/site-packages/PIL/Image.pyc\u001b[0m in \u001b[0;36mopen\u001b[0;34m(fp, mode)\u001b[0m\n\u001b[1;32m   2450\u001b[0m         \u001b[0mfp\u001b[0m\u001b[0;34m.\u001b[0m\u001b[0mclose\u001b[0m\u001b[0;34m(\u001b[0m\u001b[0;34m)\u001b[0m\u001b[0;34m\u001b[0m\u001b[0m\n\u001b[1;32m   2451\u001b[0m     raise IOError(\"cannot identify image file %r\"\n\u001b[0;32m-> 2452\u001b[0;31m                   % (filename if filename else fp))\n\u001b[0m\u001b[1;32m   2453\u001b[0m \u001b[0;34m\u001b[0m\u001b[0m\n\u001b[1;32m   2454\u001b[0m \u001b[0;31m#\u001b[0m\u001b[0;34m\u001b[0m\u001b[0;34m\u001b[0m\u001b[0m\n",
      "\u001b[0;31mIOError\u001b[0m: cannot identify image file 'prueba'"
     ]
    }
   ],
   "source": [
    "from IPython.display import Image\n",
    "I=Image(\"prueba.pgm\")\n",
    "\n",
    "%matplotlib inline\n",
    "import matplotlib.image as mpimg\n",
    "img=mpimg.imread('prueba')\n"
   ]
  }
 ],
 "metadata": {
  "kernelspec": {
   "display_name": "Python 2",
   "language": "python",
   "name": "python2"
  },
  "language_info": {
   "codemirror_mode": {
    "name": "ipython",
    "version": 2
   },
   "file_extension": ".py",
   "mimetype": "text/x-python",
   "name": "python",
   "nbconvert_exporter": "python",
   "pygments_lexer": "ipython2",
   "version": "2.7.14"
  }
 },
 "nbformat": 4,
 "nbformat_minor": 2
}
