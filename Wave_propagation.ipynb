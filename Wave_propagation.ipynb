{
 "cells": [
  {
   "cell_type": "code",
   "execution_count": 37,
   "metadata": {},
   "outputs": [],
   "source": [
    "from pyoptools.all import *"
   ]
  },
  {
   "cell_type": "markdown",
   "metadata": {},
   "source": [
    "## From rays to waves\n",
    "\n",
    "When considerig light as a wave calculations through optical systems get heavy this is why the class *surface* allow to calculate wavefronts from rays.\n",
    "\n",
    "To calculate the wavefront emerging from a surface after being illuminated by a plane wave, whose wavevector is given by the ray *R*.\n",
    "\n",
    "    pw_propagate(self, R,ni,nr, rsamples, shape, order,z):\n",
    "\n",
    "Where *ni* and *nr* are the refraction index in the incident and the refracted media respectively. *rsamples* is the number of rays used to sample, *shape* is the shape of the wavefront, *order* is the order of the polynomial fit and *z* is the z position of the output plane. The surface vertex is located by default in the origin of the c\n",
    "> Rays come from the negative side\n"
   ]
  },
  {
   "cell_type": "code",
   "execution_count": 38,
   "metadata": {},
   "outputs": [
    {
     "ename": "ImportError",
     "evalue": "No module named ray_trace.surface",
     "output_type": "error",
     "traceback": [
      "\u001b[0;31m---------------------------------------------------------------------------\u001b[0m",
      "\u001b[0;31mImportError\u001b[0m                               Traceback (most recent call last)",
      "\u001b[0;32m<ipython-input-38-2f5d66179b18>\u001b[0m in \u001b[0;36m<module>\u001b[0;34m()\u001b[0m\n\u001b[1;32m      5\u001b[0m \u001b[0;34m\u001b[0m\u001b[0m\n\u001b[1;32m      6\u001b[0m \u001b[0;34m\u001b[0m\u001b[0m\n\u001b[0;32m----> 7\u001b[0;31m \u001b[0mS\u001b[0m\u001b[0;34m.\u001b[0m\u001b[0mpw_propagate\u001b[0m\u001b[0;34m(\u001b[0m\u001b[0mR\u001b[0m\u001b[0;34m,\u001b[0m\u001b[0;36m1.\u001b[0m\u001b[0;34m,\u001b[0m\u001b[0;36m1.5\u001b[0m\u001b[0;34m,\u001b[0m \u001b[0;36m10\u001b[0m\u001b[0;34m,\u001b[0m \u001b[0mCircular\u001b[0m\u001b[0;34m,\u001b[0m \u001b[0;36m3\u001b[0m\u001b[0;34m,\u001b[0m \u001b[0;36m0\u001b[0m\u001b[0;34m)\u001b[0m\u001b[0;34m\u001b[0m\u001b[0m\n\u001b[0m\u001b[1;32m      8\u001b[0m \u001b[0;34m\u001b[0m\u001b[0m\n",
      "\u001b[0;32mpyoptools/raytrace/surface/surface.pyx\u001b[0m in \u001b[0;36mpyoptools.raytrace.surface.surface.Surface.pw_propagate\u001b[0;34m()\u001b[0m\n",
      "\u001b[0;32mpyoptools/raytrace/surface/surface.pyx\u001b[0m in \u001b[0;36mpyoptools.raytrace.surface.surface.Surface.pw_propagate\u001b[0;34m()\u001b[0m\n",
      "\u001b[0;31mImportError\u001b[0m: No module named ray_trace.surface"
     ]
    }
   ],
   "source": [
    "R=Ray(pos=(0,0,0),dir=(0,0,1),wavelength=0.55)\n",
    "S=Spherical(curvature=1/300., shape=Circular(radius=145.),reflectivity=1)\n",
    "\n",
    "Plot3D(S,center=(0,0,0),size=(400,400),rot=[(0,-pi/1.9,0)],scale=1)\n",
    "\n",
    "\n",
    "S.pw_propagate(R,1.,1.5, 10, Circular, 3, 0)\n",
    "\n"
   ]
  },
  {
   "cell_type": "markdown",
   "metadata": {},
   "source": [
    "## Optical fields\n",
    "\n",
    "The class *field* is created to perform calculations dealing with wavefrons. A field is composed by both the amplitude and the phase information of the wave. Field information can be given as a *numpy* complex array, or as a set of two images, the first one containing the amplitutde of the field and the second one containing the phase of the field. The field resolution is set by default.\n",
    "\n",
    "To create an optical field from a complex array *A*\n",
    "\n",
    "    F=Field(a)\n",
    "To create an optical field from two images contaning the amplitude and the phase information.\n",
    "    \n",
    "    F=Field(A,PH)\n",
    "\n",
    "To propagate an optical field a distance *z*, scaling the output shape.\n",
    "    \n",
    "    F.propagate_rsc_sc(x,scale=(a,b)\n"
   ]
  },
  {
   "cell_type": "code",
   "execution_count": 101,
   "metadata": {},
   "outputs": [
    {
     "name": "stdout",
     "output_type": "stream",
     "text": [
      "Populating the interactive namespace from numpy and matplotlib\n"
     ]
    },
    {
     "data": {
      "image/png": "[encoded data removed]",
      "text/plain": [
       "<matplotlib.figure.Figure at 0x7f0034bd3a90>"
      ]
     },
     "metadata": {},
     "output_type": "display_data"
    }
   ],
   "source": [
    "# Example: Visulization of an optical map\n",
    "\n",
    "a=np.array([[1+1.j, 2, 1+7.j, 2, 1+1.j, 2], [3, 4, 7+1.j, 2, 5+7.j, 4], [3, 4, 7+1.j, 2, 5+7.j, 4], [7 +2.j, 6, 7+1.j, 2, 5+2.j, 4]], dtype=complex)\n",
    "\n",
    "F=Field(a)\n",
    "\n",
    "%pylab inline\n",
    "#imshow(F.propagate_rsc_sc(0.05,scale=(1,1)).phase)\n",
    "imshow(F.propagate_rsc_sc(0.05,scale=(1,1)).intensity())\n",
    "gray()\n"
   ]
  },
  {
   "cell_type": "code",
   "execution_count": 98,
   "metadata": {},
   "outputs": [],
   "source": [
    "from IPython.display import Image\n",
    "I=Image(\"prueba\")\n",
    "\n",
    "F2=Field(I,I)\n",
    "\n",
    "#%pylab inline\n",
    "#imshow(F2.phase)\n",
    "#gray()\n"
   ]
  },
  {
   "cell_type": "code",
   "execution_count": null,
   "metadata": {},
   "outputs": [],
   "source": []
  }
 ],
 "metadata": {
  "kernelspec": {
   "display_name": "Python 2",
   "language": "python",
   "name": "python2"
  },
  "language_info": {
   "codemirror_mode": {
    "name": "ipython",
    "version": 2
   },
   "file_extension": ".py",
   "mimetype": "text/x-python",
   "name": "python",
   "nbconvert_exporter": "python",
   "pygments_lexer": "ipython2",
   "version": "2.7.14"
  }
 },
 "nbformat": 4,
 "nbformat_minor": 2
}
