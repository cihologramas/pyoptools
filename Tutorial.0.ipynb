{
 "cells": [
  {
   "cell_type": "markdown",
   "metadata": {},
   "source": [
    "# ___pyOpTools_ Tutorial"
   ]
  },
  {
   "cell_type": "code",
   "execution_count": 139,
   "metadata": {},
   "outputs": [],
   "source": [
    "from pyoptools.all import *\n",
    "from math import *"
   ]
  },
  {
   "cell_type": "markdown",
   "metadata": {},
   "source": [
    "## 0. Display 3D\n",
    "\n",
    "In order to visualize the optical systems and the raytracings the class Plot3D is used as follows:\n",
    "```python\n",
    "    Plot3D(Obj,center=(x,y,z),size=(a,b),rot=[(rx,ry,rz)],scale=s)\n",
    "```\n",
    "\n",
    "where: \n",
    "\n",
    " $\\quad$  Obj is the name of the optical element or system to be plotted\n",
    "   \n",
    " $\\quad$  (x,y,z) are the cartesian coordiantes of its center*\n",
    "   \n",
    " $\\quad$  (a,b) are the horizontal and vertical dimensions of the image\n",
    "   \n",
    " $\\quad$  (rx,ry,rz) are the rotation angles in radians around the axis x,y & z\n",
    "   \n",
    " $\\quad$ s is the scale of the image in the notebook.\n",
    "\n",
    "*The y axis is pointing downwards and the z axis is pointing towards the screen."
   ]
  },
  {
   "cell_type": "markdown",
   "metadata": {},
   "source": [
    "$a^2$"
   ]
  },
  {
   "cell_type": "markdown",
   "metadata": {},
   "source": [
    "## 1. Optical surfaces\n",
    "\n",
    "Shape, reflectivity\n"
   ]
  },
  {
   "cell_type": "markdown",
   "metadata": {},
   "source": [
    "### 1.1 Plane surfaces"
   ]
  },
  {
   "cell_type": "code",
   "execution_count": 141,
   "metadata": {},
   "outputs": [],
   "source": [
    "P1=Plane(shape=Circular(radius=(25)))\n",
    "P2=Plane(shape=Rectangular(size=(10,10)))\n",
    "P3=Plane(shape=Triangular(coord=((-30,0),(0,0),(-20,-30))))\n",
    "P=IdealSurface()"
   ]
  },
  {
   "cell_type": "code",
   "execution_count": 142,
   "metadata": {},
   "outputs": [
    {
     "data": {
      "image/jpeg": "[encoded data removed]",
      "text/plain": [
       "<pyoptools.gui.ipynbplotutils.Plot3D at 0x7f2479610a50>"
      ]
     },
     "execution_count": 142,
     "metadata": {},
     "output_type": "execute_result"
    }
   ],
   "source": [
    "Plot3D(P3,center=(-20,-10,0),size=(60,60),rot=[(0,-pi/6,0)],scale=6)\n",
    "#Plot3D(P1,center=(0,0,0),size=(60,60),rot=[(0,0,0)],scale=6)"
   ]
  },
  {
   "cell_type": "markdown",
   "metadata": {},
   "source": [
    "## 1.2 Spherical surfaces\n",
    "Curvature, radius of curvature "
   ]
  },
  {
   "cell_type": "code",
   "execution_count": 143,
   "metadata": {},
   "outputs": [
    {
     "data": {
      "image/jpeg": "[encoded data removed]",
      "text/plain": [
       "<pyoptools.gui.ipynbplotutils.Plot3D at 0x7f24796103d0>"
      ]
     },
     "execution_count": 143,
     "metadata": {},
     "output_type": "execute_result"
    }
   ],
   "source": [
    "S=Spherical(curvature=1/300., shape=Circular(radius=145.),reflectivity=1)\n",
    "Plot3D(S,center=(0,0,0),size=(400,400),rot=[(0,-pi/1.9,0)],scale=1)"
   ]
  },
  {
   "cell_type": "markdown",
   "metadata": {},
   "source": [
    "### 1.3 Cylinders and cylidrical surfaces\n",
    "\n",
    "Cylinders and Portions of circular cylinders with different shapes and curvatures"
   ]
  },
  {
   "cell_type": "code",
   "execution_count": 144,
   "metadata": {},
   "outputs": [],
   "source": [
    "S1=Cylinder(radius=36,length=100,reflectivity=1)\n",
    "S2=Cylindrical(shape=Circular(radius=(50)),curvature=1/100.)\n",
    "S3=Cylindrical(shape=Rectangular(size=(50,100)),curvature=1/20.)"
   ]
  },
  {
   "cell_type": "code",
   "execution_count": 314,
   "metadata": {},
   "outputs": [
    {
     "data": {
      "image/jpeg": "[encoded data removed]",
      "text/plain": [
       "<pyoptools.gui.ipynbplotutils.Plot3D at 0x7f24795402d0>"
      ]
     },
     "execution_count": 314,
     "metadata": {},
     "output_type": "execute_result"
    }
   ],
   "source": [
    "Plot3D(S3,center=(0,0,0),size=(150,150),rot=[(pi/6,0,0)],scale=2)"
   ]
  },
  {
   "cell_type": "markdown",
   "metadata": {},
   "source": [
    "### 1.4 Aspheric surfaces \n",
    "\n",
    "Shperical aberration;\n",
    "Idea:  Comparation of the spherical aberration"
   ]
  },
  {
   "cell_type": "code",
   "execution_count": 121,
   "metadata": {},
   "outputs": [
    {
     "data": {
      "text/latex": [
       "$$Z=\\frac{(A_x x^2+A_y y^2)}{(1+\\sqrt{(1-(1+K_x)A_x^2 x^2-(1+K_y) A_y^2 y^2))}}+ poly2d()$$"
      ],
      "text/plain": [
       "<IPython.core.display.Latex object>"
      ]
     },
     "metadata": {},
     "output_type": "display_data"
    }
   ],
   "source": [
    "%%latex\n",
    "$$Z=\\frac{(A_x x^2+A_y y^2)}{(1+\\sqrt{(1-(1+K_x)A_x^2 x^2-(1+K_y) A_y^2 y^2))}}+ poly2d()$$"
   ]
  },
  {
   "cell_type": "code",
   "execution_count": 146,
   "metadata": {},
   "outputs": [
    {
     "data": {
      "image/jpeg": "[encoded data removed]",
      "text/plain": [
       "<pyoptools.gui.ipynbplotutils.Plot3D at 0x7f24795ad050>"
      ]
     },
     "execution_count": 146,
     "metadata": {},
     "output_type": "execute_result"
    }
   ],
   "source": [
    "sa=Aspherical(shape=Circular(radius=2.5),Ax=.2,Ay=.2,Kx=.1, Ky=.15, poly=poly2d((0,0,0,.5,0,.5)))\n",
    "Plot3D(sa,center=(-2,-2,5),size=(8,8),rot=[(-3*pi/10,pi/4,0)],scale=40)"
   ]
  },
  {
   "cell_type": "markdown",
   "metadata": {},
   "source": [
    "# 2. From Optical surfaces to Optical components\n",
    "\n",
    "By linking properly some optical surfaces it is possible to build several optical components using the *pyOpTools* class *Component* as follows:\n",
    "```python\n",
    " P = Component(surflist=[(S1,(x1,y1,z1),(rx1,ry1,rz1)),\n",
    "                         (S2,(x2,y2,z2),(rx2,ry2,rz2)),\n",
    "                         (S3,(x3,y3,z3),(rx3,ry3,rz3))],material=n)            \n",
    "```\n",
    "    \n",
    "where \n",
    "\n",
    "$\n",
    "    \\quad S_i$ is the name of the i-th optical surface\n",
    "    \n",
    "$\n",
    "    \\quad(x_i,y_i,z_i)$ are the cartesian coordinates of its center\n",
    "    \n",
    "$\n",
    "    \\quad(rx_i,ry_i,rz_i)$ are the rotation angles in radians around the axis x,y & z\n",
    "\n",
    "\n",
    "   $\\quad$ n  is the refraction index of the optical component.\n",
    "   \n",
    "Aditionnally pyOpTools includes a wide catalogue of refractive indexes from several lens facricants, among them:\n",
    "- sumita,\n",
    "- ohara\n",
    "- hoya\n",
    "- corning\n",
    "- hoya\n",
    "- schott\n",
    "\n",
    "To access the value of the refractive index: \n",
    "\n",
    "```python\n",
    "    n=material.fabricant['ManofacturerTM']\n",
    "```\n",
    "\n",
    "To display all the Manofacturer's TradeMarks of the lenses availables \n",
    "\n",
    "```python\n",
    "    material.fabricant.keys()\n",
    "```\n",
    "\n",
    "\n",
    "\n",
    "Component example\n",
    "\n",
    "Predifined components"
   ]
  },
  {
   "cell_type": "markdown",
   "metadata": {},
   "source": [
    "      "
   ]
  },
  {
   "cell_type": "code",
   "execution_count": 147,
   "metadata": {},
   "outputs": [],
   "source": [
    "# Example of an optical component Prisme 90°\n",
    "\n",
    "width=50\n",
    "height=50\n",
    "reflectivity=0.5\n",
    "        \n",
    "a_face= Plane(shape=Rectangular(size=(width,height)))\n",
    "b_face= Plane(shape=Rectangular(size=(width,height)))\n",
    "\n",
    "\n",
    "h=sqrt(2.)*width\n",
    "h_face= Plane (shape=Rectangular(size=(h,height)),reflectivity=reflectivity)\n",
    "        \n",
    "w2=width/2.\n",
    "\n",
    "e1=Plane (shape=Triangular(((-w2,w2),(-w2,-w2),(w2,-w2))))\n",
    "e2=Plane (shape=Triangular(((-w2,w2),(-w2,-w2),(w2,-w2))))"
   ]
  },
  {
   "cell_type": "code",
   "execution_count": 150,
   "metadata": {},
   "outputs": [
    {
     "data": {
      "image/jpeg": "[encoded data removed]",
      "text/plain": [
       "<pyoptools.gui.ipynbplotutils.Plot3D at 0x7f24795ad910>"
      ]
     },
     "execution_count": 150,
     "metadata": {},
     "output_type": "execute_result"
    }
   ],
   "source": [
    "P=Component(surflist=[(a_face,(0,0,-width/2),(0,0,0)),\n",
    "                      (b_face,(width/2,0,0),(0,pi/2,0)),\n",
    "                      (h_face,(0,0,0),(0,-pi/4,0)),\n",
    "                      (e1,(0,height/2,0),(pi/2,-pi/2,0)),\n",
    "                      (e2,(0,height/2,0),(pi/2,-pi/2,0))\n",
    "                      ],material=material.schott[\"BK7\"])\n",
    "Plot3D(P,size=(120,120),scale=3,rot=[(pi/6,pi/8,0)])"
   ]
  },
  {
   "cell_type": "markdown",
   "metadata": {},
   "source": [
    "pyOptools includes **predefined optical components**"
   ]
  },
  {
   "cell_type": "markdown",
   "metadata": {},
   "source": [
    "## 2.1 Lens\n",
    "\n",
    "SphericalLens IdealLens, IdealTLens Comparision doublets and airspaced doublets\n",
    "\n",
    "```python\n",
    "    L1=SphericalLens(radius=r,curvature_s1=c1,curvature_s2=c2,thickness=d,material=n)\n",
    "    \n",
    "    L2=IdealLens(shape=Circular(radius=(r)),f=l)\n",
    "    \n",
    "    L=IdealLens(shape=Circular(radius=(25)), f=100)\n",
    "```\n",
    "\n",
    "> Puede haber problemas con la visualizacion  IdealTLenses\n",
    "\n",
    "\n",
    "\n"
   ]
  },
  {
   "cell_type": "code",
   "execution_count": 295,
   "metadata": {},
   "outputs": [],
   "source": [
    "L1=SphericalLens(radius=25,curvature_s1=1/100.,curvature_s2=-1/100.,thickness=8,material=material.ohara['O_PBL2'])\n",
    "#L=IdealTLens(shape=Circular(radius=(25)), f=100, d=10)"
   ]
  },
  {
   "cell_type": "code",
   "execution_count": 304,
   "metadata": {},
   "outputs": [
    {
     "data": {
      "image/jpeg": "[encoded data removed]",
      "text/plain": [
       "<pyoptools.gui.ipynbplotutils.Plot3D at 0x7f24795079d0>"
      ]
     },
     "execution_count": 304,
     "metadata": {},
     "output_type": "execute_result"
    }
   ],
   "source": [
    "Plot3D(L1,center=(0,0,0),size=(70,70),rot=[(0,pi/1.8,0)],scale=5)"
   ]
  },
  {
   "cell_type": "markdown",
   "metadata": {},
   "source": [
    "## 2.2 Mirrors, stops & sensors\n",
    "\n",
    "```pytho\n",
    "m=RoundMirror(radius= 50., thickness=1, reflectivity = 0.5)\n",
    "m2=RectMirror(size=(40,25,10), reflectivity = 0.5)\n",
    "```\n",
    "\n",
    "\n",
    "   Other kinds of mirrors by adjusting the shape size and reflectivity\n",
    "\n",
    "```python\n",
    "    AP=Stop(shape=Rectangular(size=(50,50)),ap_shape=Circular(radius=25))\n",
    "\n",
    "    c=CCD()\n",
    "```\n",
    "    \n",
    "    \n",
    "\n",
    "In appeareance they look like simple surfaces but when interacnting with rays they have different propperties.\n",
    "    "
   ]
  },
  {
   "cell_type": "markdown",
   "metadata": {},
   "source": [
    "## 2.3 Optical prismes & beamsplitters"
   ]
  },
  {
   "cell_type": "markdown",
   "metadata": {},
   "source": [
    "P0=RightAnglePrism(width=50,height=50,material=material.schott[\"BK7\"],reflectivity=0)\n",
    "\n",
    "bs=BeamSplitingCube(size=50,material=N_BK7,reflectivity=0.5)\n",
    "\n",
    "\n",
    "CCD\n",
    "RightAnglePrism, PentaPrism\n",
    "Block, BeamSplitingCube\n",
    "Stops\n"
   ]
  },
  {
   "cell_type": "code",
   "execution_count": 322,
   "metadata": {},
   "outputs": [
    {
     "data": {
      "image/jpeg": "[encoded data removed]",
      "text/plain": [
       "<pyoptools.gui.ipynbplotutils.Plot3D at 0x7f24794d9e10>"
      ]
     },
     "execution_count": 322,
     "metadata": {},
     "output_type": "execute_result"
    }
   ],
   "source": [
    "m=RoundMirror(radius= 50., thickness=1, reflectivity = 0.5)\n",
    "m2=RectMirror(size=(40,25,10), reflectivity = 0.5)\n",
    "\n",
    "Plot3D(m2,center=(0,0,0),size=(150,150),rot=[(pi/6,0,0)],scale=2)"
   ]
  },
  {
   "cell_type": "markdown",
   "metadata": {},
   "source": [
    "# Rays & Optical systems"
   ]
  },
  {
   "cell_type": "code",
   "execution_count": null,
   "metadata": {},
   "outputs": [],
   "source": []
  },
  {
   "cell_type": "code",
   "execution_count": null,
   "metadata": {},
   "outputs": [],
   "source": []
  },
  {
   "cell_type": "code",
   "execution_count": null,
   "metadata": {},
   "outputs": [],
   "source": []
  }
 ],
 "metadata": {
  "kernelspec": {
   "display_name": "Python 2",
   "language": "python",
   "name": "python2"
  },
  "language_info": {
   "codemirror_mode": {
    "name": "ipython",
    "version": 2
   },
   "file_extension": ".py",
   "mimetype": "text/x-python",
   "name": "python",
   "nbconvert_exporter": "python",
   "pygments_lexer": "ipython2",
   "version": "2.7.12"
  }
 },
 "nbformat": 4,
 "nbformat_minor": 2
}
