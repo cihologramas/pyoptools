{
 "cells": [
  {
   "cell_type": "markdown",
   "metadata": {},
   "source": [
    "# _pyOpTools_ Tutorial"
   ]
  },
  {
   "cell_type": "code",
   "execution_count": 3,
   "metadata": {},
   "outputs": [
    {
     "name": "stderr",
     "output_type": "stream",
     "text": [
      "/home/wcamilo96/pyoptools-env/local/lib/python2.7/site-packages/scipy/linalg/basic.py:21: RuntimeWarning: numpy.dtype size changed, may indicate binary incompatibility. Expected 96, got 88\n",
      "  from ._solve_toeplitz import levinson\n",
      "/home/wcamilo96/pyoptools-env/local/lib/python2.7/site-packages/scipy/linalg/basic.py:21: RuntimeWarning: numpy.ufunc size changed, may indicate binary incompatibility. Expected 192, got 176\n",
      "  from ._solve_toeplitz import levinson\n",
      "/home/wcamilo96/pyoptools-env/local/lib/python2.7/site-packages/scipy/linalg/__init__.py:190: RuntimeWarning: numpy.dtype size changed, may indicate binary incompatibility. Expected 96, got 88\n",
      "  from ._decomp_update import *\n",
      "/home/wcamilo96/pyoptools-env/local/lib/python2.7/site-packages/scipy/linalg/__init__.py:190: RuntimeWarning: numpy.ufunc size changed, may indicate binary incompatibility. Expected 192, got 176\n",
      "  from ._decomp_update import *\n",
      "/home/wcamilo96/pyoptools-env/local/lib/python2.7/site-packages/scipy/special/__init__.py:627: RuntimeWarning: numpy.dtype size changed, may indicate binary incompatibility. Expected 96, got 88\n",
      "  from ._ufuncs import *\n",
      "/home/wcamilo96/pyoptools-env/local/lib/python2.7/site-packages/scipy/special/__init__.py:627: RuntimeWarning: numpy.ufunc size changed, may indicate binary incompatibility. Expected 192, got 176\n",
      "  from ._ufuncs import *\n",
      "/home/wcamilo96/pyoptools-env/local/lib/python2.7/site-packages/scipy/special/_ellip_harm.py:7: RuntimeWarning: numpy.dtype size changed, may indicate binary incompatibility. Expected 96, got 88\n",
      "  from ._ellip_harm_2 import _ellipsoid, _ellipsoid_norm\n",
      "/home/wcamilo96/pyoptools-env/local/lib/python2.7/site-packages/scipy/special/_ellip_harm.py:7: RuntimeWarning: numpy.ufunc size changed, may indicate binary incompatibility. Expected 192, got 176\n",
      "  from ._ellip_harm_2 import _ellipsoid, _ellipsoid_norm\n",
      "/home/wcamilo96/pyoptools-env/local/lib/python2.7/site-packages/scipy/sparse/lil.py:16: RuntimeWarning: numpy.dtype size changed, may indicate binary incompatibility. Expected 96, got 88\n",
      "  from . import _csparsetools\n",
      "/home/wcamilo96/pyoptools-env/local/lib/python2.7/site-packages/scipy/sparse/lil.py:16: RuntimeWarning: numpy.ufunc size changed, may indicate binary incompatibility. Expected 192, got 176\n",
      "  from . import _csparsetools\n",
      "/home/wcamilo96/pyoptools-env/local/lib/python2.7/site-packages/scipy/sparse/csgraph/__init__.py:165: RuntimeWarning: numpy.dtype size changed, may indicate binary incompatibility. Expected 96, got 88\n",
      "  from ._shortest_path import shortest_path, floyd_warshall, dijkstra,\\\n",
      "/home/wcamilo96/pyoptools-env/local/lib/python2.7/site-packages/scipy/sparse/csgraph/__init__.py:165: RuntimeWarning: numpy.ufunc size changed, may indicate binary incompatibility. Expected 192, got 176\n",
      "  from ._shortest_path import shortest_path, floyd_warshall, dijkstra,\\\n",
      "/home/wcamilo96/pyoptools-env/local/lib/python2.7/site-packages/scipy/sparse/csgraph/_validation.py:5: RuntimeWarning: numpy.dtype size changed, may indicate binary incompatibility. Expected 96, got 88\n",
      "  from ._tools import csgraph_to_dense, csgraph_from_dense,\\\n",
      "/home/wcamilo96/pyoptools-env/local/lib/python2.7/site-packages/scipy/sparse/csgraph/_validation.py:5: RuntimeWarning: numpy.ufunc size changed, may indicate binary incompatibility. Expected 192, got 176\n",
      "  from ._tools import csgraph_to_dense, csgraph_from_dense,\\\n",
      "/home/wcamilo96/pyoptools-env/local/lib/python2.7/site-packages/scipy/sparse/csgraph/__init__.py:167: RuntimeWarning: numpy.dtype size changed, may indicate binary incompatibility. Expected 96, got 88\n",
      "  from ._traversal import breadth_first_order, depth_first_order, \\\n",
      "/home/wcamilo96/pyoptools-env/local/lib/python2.7/site-packages/scipy/sparse/csgraph/__init__.py:167: RuntimeWarning: numpy.ufunc size changed, may indicate binary incompatibility. Expected 192, got 176\n",
      "  from ._traversal import breadth_first_order, depth_first_order, \\\n",
      "/home/wcamilo96/pyoptools-env/local/lib/python2.7/site-packages/scipy/sparse/csgraph/__init__.py:169: RuntimeWarning: numpy.dtype size changed, may indicate binary incompatibility. Expected 96, got 88\n",
      "  from ._min_spanning_tree import minimum_spanning_tree\n",
      "/home/wcamilo96/pyoptools-env/local/lib/python2.7/site-packages/scipy/sparse/csgraph/__init__.py:169: RuntimeWarning: numpy.ufunc size changed, may indicate binary incompatibility. Expected 192, got 176\n",
      "  from ._min_spanning_tree import minimum_spanning_tree\n",
      "/home/wcamilo96/pyoptools-env/local/lib/python2.7/site-packages/scipy/sparse/csgraph/__init__.py:170: RuntimeWarning: numpy.dtype size changed, may indicate binary incompatibility. Expected 96, got 88\n",
      "  from ._reordering import reverse_cuthill_mckee, maximum_bipartite_matching\n",
      "/home/wcamilo96/pyoptools-env/local/lib/python2.7/site-packages/scipy/sparse/csgraph/__init__.py:170: RuntimeWarning: numpy.ufunc size changed, may indicate binary incompatibility. Expected 192, got 176\n",
      "  from ._reordering import reverse_cuthill_mckee, maximum_bipartite_matching\n",
      "/home/wcamilo96/pyoptools-env/local/lib/python2.7/site-packages/scipy/spatial/__init__.py:92: RuntimeWarning: numpy.dtype size changed, may indicate binary incompatibility. Expected 96, got 88\n",
      "  from .ckdtree import *\n",
      "/home/wcamilo96/pyoptools-env/local/lib/python2.7/site-packages/scipy/spatial/__init__.py:92: RuntimeWarning: numpy.ufunc size changed, may indicate binary incompatibility. Expected 192, got 176\n",
      "  from .ckdtree import *\n",
      "/home/wcamilo96/pyoptools-env/local/lib/python2.7/site-packages/scipy/spatial/__init__.py:93: RuntimeWarning: numpy.dtype size changed, may indicate binary incompatibility. Expected 96, got 88\n",
      "  from .qhull import *\n",
      "/home/wcamilo96/pyoptools-env/local/lib/python2.7/site-packages/scipy/spatial/__init__.py:93: RuntimeWarning: numpy.ufunc size changed, may indicate binary incompatibility. Expected 192, got 176\n",
      "  from .qhull import *\n",
      "/home/wcamilo96/pyoptools-env/local/lib/python2.7/site-packages/scipy/signal/_max_len_seq.py:8: RuntimeWarning: numpy.dtype size changed, may indicate binary incompatibility. Expected 96, got 88\n",
      "  from ._max_len_seq_inner import _max_len_seq_inner\n",
      "/home/wcamilo96/pyoptools-env/local/lib/python2.7/site-packages/scipy/signal/_max_len_seq.py:8: RuntimeWarning: numpy.ufunc size changed, may indicate binary incompatibility. Expected 192, got 176\n",
      "  from ._max_len_seq_inner import _max_len_seq_inner\n",
      "/home/wcamilo96/pyoptools-env/local/lib/python2.7/site-packages/scipy/optimize/_numdiff.py:8: RuntimeWarning: numpy.dtype size changed, may indicate binary incompatibility. Expected 96, got 88\n",
      "  from ._group_columns import group_dense, group_sparse\n",
      "/home/wcamilo96/pyoptools-env/local/lib/python2.7/site-packages/scipy/optimize/_numdiff.py:8: RuntimeWarning: numpy.ufunc size changed, may indicate binary incompatibility. Expected 192, got 176\n",
      "  from ._group_columns import group_dense, group_sparse\n",
      "/home/wcamilo96/pyoptools-env/local/lib/python2.7/site-packages/scipy/ndimage/measurements.py:36: RuntimeWarning: numpy.dtype size changed, may indicate binary incompatibility. Expected 96, got 88\n",
      "  from . import _ni_label\n",
      "/home/wcamilo96/pyoptools-env/local/lib/python2.7/site-packages/scipy/ndimage/measurements.py:36: RuntimeWarning: numpy.ufunc size changed, may indicate binary incompatibility. Expected 192, got 176\n",
      "  from . import _ni_label\n",
      "/home/wcamilo96/pyoptools-env/local/lib/python2.7/site-packages/scipy/signal/spectral.py:10: RuntimeWarning: numpy.dtype size changed, may indicate binary incompatibility. Expected 96, got 88\n",
      "  from ._spectral import lombscargle\n",
      "/home/wcamilo96/pyoptools-env/local/lib/python2.7/site-packages/scipy/signal/spectral.py:10: RuntimeWarning: numpy.ufunc size changed, may indicate binary incompatibility. Expected 192, got 176\n",
      "  from ._spectral import lombscargle\n",
      "/home/wcamilo96/pyoptools-env/local/lib/python2.7/site-packages/scipy/stats/_continuous_distns.py:24: RuntimeWarning: numpy.dtype size changed, may indicate binary incompatibility. Expected 96, got 88\n",
      "  from . import vonmises_cython\n",
      "/home/wcamilo96/pyoptools-env/local/lib/python2.7/site-packages/scipy/stats/_continuous_distns.py:24: RuntimeWarning: numpy.ufunc size changed, may indicate binary incompatibility. Expected 192, got 176\n",
      "  from . import vonmises_cython\n"
     ]
    },
    {
     "name": "stderr",
     "output_type": "stream",
     "text": [
      "/home/wcamilo96/pyoptools-env/local/lib/python2.7/site-packages/scipy/stats/stats.py:188: RuntimeWarning: numpy.dtype size changed, may indicate binary incompatibility. Expected 96, got 88\n",
      "  from ._rank import tiecorrect\n",
      "/home/wcamilo96/pyoptools-env/local/lib/python2.7/site-packages/scipy/stats/stats.py:188: RuntimeWarning: numpy.ufunc size changed, may indicate binary incompatibility. Expected 192, got 176\n",
      "  from ._rank import tiecorrect\n"
     ]
    },
    {
     "name": "stdout",
     "output_type": "stream",
     "text": [
      "('Loading component library', 'Edmund', ' from files ', ['/home/wcamilo96/pyoptools-env/local/lib/python2.7/site-packages/pyoptools/raytrace/library/Edmund/SphOptics1.cmp', '/home/wcamilo96/pyoptools-env/local/lib/python2.7/site-packages/pyoptools/raytrace/library/Edmund/SphOptics.cmp'])\n"
     ]
    }
   ],
   "source": [
    "from pyoptools.all import *"
   ]
  },
  {
   "cell_type": "markdown",
   "metadata": {},
   "source": [
    "## 0. Display 3D\n",
    "\n",
    "In order to visualize the optical systems and the raytracings the class Plot3D is used as follows:\n",
    "\n",
    "    Plot3D(Obj,center=(x,y,z),size(a,b),rot=[(rx,ry,rz)],scale=s)\n",
    "\n",
    "\n",
    "where: \n",
    "\n",
    "    Obj is the name of the optical element or system that we want to plot\n",
    "    (x,y,z) are the cartesian coordiantes of its center\n",
    "    (a,b) are the horizontal and vertical dimensions of the image*\n",
    "    (rx,ry,rz) are the rotation angles in radians  around the axis x,y & z\n",
    "    and s is the scale of the image in the notebook.\n",
    "\n",
    "*When plotting a circle or a triangle the parameter is the radius=(r) or the coord of the edges coord=((a,b),(c,d),(e,f)) instead of size."
   ]
  },
  {
   "cell_type": "markdown",
   "metadata": {},
   "source": []
  },
  {
   "cell_type": "markdown",
   "metadata": {},
   "source": [
    "# 1. Optical surfaces\n",
    "\n"
   ]
  },
  {
   "cell_type": "code",
   "execution_count": 33,
   "metadata": {},
   "outputs": [],
   "source": [
    "P1=Plane(shape=Circular(radius=(25)))\n",
    "P2=Plane(shape=Rectangular(size=(10,10)))\n",
    "P3=Plane(shape=Triangular(coord=((-20,-20),(0,40),(10,30))))\n"
   ]
  },
  {
   "cell_type": "code",
   "execution_count": 34,
   "metadata": {},
   "outputs": [
    {
     "data": {
      "image/jpeg": "[encoded data removed]",
      "text/plain": [
       "<pyoptools.gui.ipynbplotutils.Plot3D at 0x7f4aaad80990>"
      ]
     },
     "execution_count": 34,
     "metadata": {},
     "output_type": "execute_result"
    }
   ],
   "source": [
    "Plot3D(P3,center=(0,0,0),size=(60,60),rot=[(0,0,0)],scale=6)"
   ]
  },
  {
   "cell_type": "code",
   "execution_count": null,
   "metadata": {},
   "outputs": [],
   "source": [
    "os     Optical element (system, component or surface) to be drawn\n",
    "    center Tuple (x,y,z) with the coordinates of the center of the drawing\n",
    "    size   Tuple (width, height) of the requested image\n",
    "    rot    list of (rx,ry,rz) tuples containing a series of rotation angles\n",
    "    scale  scale fot the image\n",
    "\n",
    "    The rotations are applied first rx, then ry and then rz\n",
    "\n",
    "    Attributes:\n",
    "    ===========\n",
    "    buffer    3D buffer of the system\n",
    "    image     PIL image of the buffer"
   ]
  },
  {
   "cell_type": "code",
   "execution_count": null,
   "metadata": {},
   "outputs": [],
   "source": []
  },
  {
   "cell_type": "markdown",
   "metadata": {},
   "source": [
    "# 2. From Optical surfaces to Optical elements"
   ]
  },
  {
   "cell_type": "markdown",
   "metadata": {},
   "source": [
    "## 2.1 Lens\n",
    "\n",
    "SphericalLens IdealLens, IdealTLens Comparision doublets and airspaced doublets\n"
   ]
  },
  {
   "cell_type": "markdown",
   "metadata": {},
   "source": [
    "## 2.2 Mirors\n",
    "RoundMirror, RectMirror"
   ]
  },
  {
   "cell_type": "markdown",
   "metadata": {},
   "source": [
    "## 2.3 Stops & sensors"
   ]
  },
  {
   "cell_type": "markdown",
   "metadata": {},
   "source": [
    "## 2.4 Optical prismes & beamsplitters"
   ]
  },
  {
   "cell_type": "markdown",
   "metadata": {},
   "source": [
    "CCD\n",
    "RightAnglePrism, PentaPrism\n",
    "Block, BeamSplitingCube\n",
    "Stops\n",
    "IdealLens, IdealTLens Comparision\n"
   ]
  },
  {
   "cell_type": "markdown",
   "metadata": {},
   "source": []
  },
  {
   "cell_type": "markdown",
   "metadata": {},
   "source": [
    "# Rays & Optical systems"
   ]
  },
  {
   "cell_type": "code",
   "execution_count": null,
   "metadata": {},
   "outputs": [],
   "source": []
  },
  {
   "cell_type": "code",
   "execution_count": null,
   "metadata": {},
   "outputs": [],
   "source": []
  },
  {
   "cell_type": "code",
   "execution_count": null,
   "metadata": {},
   "outputs": [],
   "source": []
  }
 ],
 "metadata": {
  "kernelspec": {
   "display_name": "Python 2",
   "language": "python",
   "name": "python2"
  },
  "language_info": {
   "codemirror_mode": {
    "name": "ipython",
    "version": 2
   },
   "file_extension": ".py",
   "mimetype": "text/x-python",
   "name": "python",
   "nbconvert_exporter": "python",
   "pygments_lexer": "ipython2",
   "version": "2.7.12"
  }
 },
 "nbformat": 4,
 "nbformat_minor": 2
}
