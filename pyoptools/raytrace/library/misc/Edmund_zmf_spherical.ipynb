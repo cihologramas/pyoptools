{
 "cells": [
  {
   "cell_type": "code",
   "execution_count": 1,
   "metadata": {},
   "outputs": [],
   "source": [
    "from zemax_import import *"
   ]
  },
  {
   "cell_type": "code",
   "execution_count": 3,
   "metadata": {},
   "outputs": [
    {
     "ename": "KeyError",
     "evalue": "'GLAS'",
     "output_type": "error",
     "traceback": [
      "\u001b[0;31m---------------------------------------------------------------------------\u001b[0m",
      "\u001b[0;31mKeyError\u001b[0m                                  Traceback (most recent call last)",
      "\u001b[0;32m<ipython-input-3-2c8fa8109680>\u001b[0m in \u001b[0;36m<module>\u001b[0;34m()\u001b[0m\n\u001b[1;32m     28\u001b[0m \u001b[0;34m\u001b[0m\u001b[0m\n\u001b[1;32m     29\u001b[0m     \u001b[0;31m#Get spherical components\u001b[0m\u001b[0;34m\u001b[0m\u001b[0;34m\u001b[0m\u001b[0;34m\u001b[0m\u001b[0m\n\u001b[0;32m---> 30\u001b[0;31m     \u001b[0mz\u001b[0m\u001b[0;34m=\u001b[0m\u001b[0mzmx2pyoptoolsSP\u001b[0m\u001b[0;34m(\u001b[0m\u001b[0md\u001b[0m\u001b[0;34m,\u001b[0m\u001b[0mk\u001b[0m\u001b[0;34m)\u001b[0m\u001b[0;34m\u001b[0m\u001b[0;34m\u001b[0m\u001b[0m\n\u001b[0m\u001b[1;32m     31\u001b[0m     \u001b[0;32mif\u001b[0m \u001b[0mz\u001b[0m \u001b[0;32mis\u001b[0m \u001b[0;32mnot\u001b[0m \u001b[0;32mNone\u001b[0m\u001b[0;34m:\u001b[0m\u001b[0;34m\u001b[0m\u001b[0;34m\u001b[0m\u001b[0m\n\u001b[1;32m     32\u001b[0m         \u001b[0mcomponents\u001b[0m\u001b[0;34m[\u001b[0m\u001b[0mk\u001b[0m\u001b[0;34m]\u001b[0m\u001b[0;34m=\u001b[0m\u001b[0mz\u001b[0m\u001b[0;34m[\u001b[0m\u001b[0mk\u001b[0m\u001b[0;34m]\u001b[0m\u001b[0;34m\u001b[0m\u001b[0;34m\u001b[0m\u001b[0m\n",
      "\u001b[0;32m/home/richi/proyectos-sync/pyoptools_libraries/zemax_import.py\u001b[0m in \u001b[0;36mzmx2pyoptoolsSP\u001b[0;34m(libdata, key)\u001b[0m\n\u001b[1;32m    298\u001b[0m \u001b[0;34m\u001b[0m\u001b[0m\n\u001b[1;32m    299\u001b[0m         \u001b[0mlens_data\u001b[0m\u001b[0;34m[\u001b[0m\u001b[0;34m\"material_l1\"\u001b[0m\u001b[0;34m]\u001b[0m\u001b[0;34m=\u001b[0m\u001b[0msurflist\u001b[0m\u001b[0;34m[\u001b[0m\u001b[0;36m0\u001b[0m\u001b[0;34m]\u001b[0m\u001b[0;34m[\u001b[0m\u001b[0;34m\"GLAS\"\u001b[0m\u001b[0;34m]\u001b[0m\u001b[0;34m[\u001b[0m\u001b[0;36m0\u001b[0m\u001b[0;34m]\u001b[0m\u001b[0;34m\u001b[0m\u001b[0;34m\u001b[0m\u001b[0m\n\u001b[0;32m--> 300\u001b[0;31m         \u001b[0mlens_data\u001b[0m\u001b[0;34m[\u001b[0m\u001b[0;34m\"material_l2\"\u001b[0m\u001b[0;34m]\u001b[0m\u001b[0;34m=\u001b[0m\u001b[0msurflist\u001b[0m\u001b[0;34m[\u001b[0m\u001b[0;36m1\u001b[0m\u001b[0;34m]\u001b[0m\u001b[0;34m[\u001b[0m\u001b[0;34m\"GLAS\"\u001b[0m\u001b[0;34m]\u001b[0m\u001b[0;34m[\u001b[0m\u001b[0;36m0\u001b[0m\u001b[0;34m]\u001b[0m\u001b[0;34m\u001b[0m\u001b[0;34m\u001b[0m\u001b[0m\n\u001b[0m\u001b[1;32m    301\u001b[0m         \u001b[0mlens_data\u001b[0m\u001b[0;34m[\u001b[0m\u001b[0;34m\"material_l3\"\u001b[0m\u001b[0;34m]\u001b[0m\u001b[0;34m=\u001b[0m\u001b[0msurflist\u001b[0m\u001b[0;34m[\u001b[0m\u001b[0;36m3\u001b[0m\u001b[0;34m]\u001b[0m\u001b[0;34m[\u001b[0m\u001b[0;34m\"GLAS\"\u001b[0m\u001b[0;34m]\u001b[0m\u001b[0;34m[\u001b[0m\u001b[0;36m0\u001b[0m\u001b[0;34m]\u001b[0m\u001b[0;34m\u001b[0m\u001b[0;34m\u001b[0m\u001b[0m\n\u001b[1;32m    302\u001b[0m         \u001b[0mlens_data\u001b[0m\u001b[0;34m[\u001b[0m\u001b[0;34m\"material_l4\"\u001b[0m\u001b[0;34m]\u001b[0m\u001b[0;34m=\u001b[0m\u001b[0msurflist\u001b[0m\u001b[0;34m[\u001b[0m\u001b[0;36m4\u001b[0m\u001b[0;34m]\u001b[0m\u001b[0;34m[\u001b[0m\u001b[0;34m\"GLAS\"\u001b[0m\u001b[0;34m]\u001b[0m\u001b[0;34m[\u001b[0m\u001b[0;36m0\u001b[0m\u001b[0;34m]\u001b[0m\u001b[0;34m\u001b[0m\u001b[0;34m\u001b[0m\u001b[0m\n",
      "\u001b[0;31mKeyError\u001b[0m: 'GLAS'"
     ]
    }
   ],
   "source": [
    "d=zmf2dict(\"Edmund Optics 2019.ZMF\")\n",
    "\n",
    "import configparser\n",
    "\n",
    "components=configparser.ConfigParser()\n",
    "\n",
    "for k in d:\n",
    "    \n",
    "    # Lenses pyoptools have problem with \n",
    "    if k in [\"87955\",\"87956\",\"87957\",\"87958\",\"87959\",\"87960\",\\\n",
    "             \"87961\",\"87962\",\"87963\",\"87964\",\"87965\",\"87966\",\\\n",
    "             \"87967\",\"87968\",\"87969\",\"87970\",\"87971\",\"87972\"]:\n",
    "        continue\n",
    "    \n",
    "    #this is an objective that should be created differently\n",
    "    if k in ['30787','30820','30940','30941','35089']: \n",
    "        continue\n",
    "        \n",
    "    #This must be created differently, as they are triplets\n",
    "    if k in ['65033','47613','64837','47311','64838','47312','64839','47313','64840']:\n",
    "        continue \n",
    "        \n",
    "    #Multilens systems not taken into account for the moment\n",
    "    if k in [\"45759\", '45760', '45761', '45762', '45587']:\n",
    "            continue\n",
    "\n",
    "    #Ignore discontinued products\n",
    "    if k in [\"12160\", \"65043\",'65044','65049','45856'] :\n",
    "            continue\n",
    "\n",
    "    #Get spherical components\n",
    "    z=zmx2pyoptoolsSP(d,k)\n",
    "    if z is not None:\n",
    "        components[k]=z[k]\n",
    "\n",
    "with open('edmund_spherical.cmp', 'w') as configfile:\n",
    "    components.write(configfile)"
   ]
  },
  {
   "cell_type": "code",
   "execution_count": 4,
   "metadata": {},
   "outputs": [
    {
     "data": {
      "text/plain": [
       "'65029'"
      ]
     },
     "execution_count": 4,
     "metadata": {},
     "output_type": "execute_result"
    }
   ],
   "source": [
    "k"
   ]
  },
  {
   "cell_type": "code",
   "execution_count": 7,
   "metadata": {},
   "outputs": [
    {
     "data": {
      "text/plain": [
       "['VERS 181119',\n",
       " 'MODE SEQ',\n",
       " 'NAME 65029',\n",
       " 'PFIL 0 0 0',\n",
       " 'LANG 0',\n",
       " 'UNIT MM X W X CM MR CPMM',\n",
       " 'ENPD 22.5',\n",
       " 'ENVD 20 1 0',\n",
       " 'GFAC 0 0',\n",
       " 'GCAT SCHOTT INFRARED ',\n",
       " 'SDMA 0 1 0',\n",
       " 'OMMA 1 1',\n",
       " 'FTYP 0 0 1 4 0 0 0 1',\n",
       " 'ROPD 2',\n",
       " 'HYPR 0',\n",
       " 'PICB 1',\n",
       " 'XFLN 0',\n",
       " 'YFLN 0',\n",
       " 'FWGN 1',\n",
       " 'WAVM 1 0.48613269999999997 1',\n",
       " 'WAVM 2 0.58756180000000002 1',\n",
       " 'WAVM 3 0.65627250000000004 1',\n",
       " 'WAVM 4 0.248 1',\n",
       " 'PWAV 3',\n",
       " 'GLRS 7 0',\n",
       " 'SURF 0',\n",
       " '  FIMP ',\n",
       " '',\n",
       " '  CURV 0.0',\n",
       " '  DISZ INFINITY',\n",
       " '  MEMA 0 0 0 0 1 \"\"',\n",
       " 'SURF 1',\n",
       " '  COMM 65029',\n",
       " '  STOP',\n",
       " '  FIMP ',\n",
       " '',\n",
       " '  CURV 4.366240230537484640E-02',\n",
       " '  DISZ 11.06',\n",
       " '  GLAS CAF2',\n",
       " '  DIAM 13 1 0 0 1 \"\"',\n",
       " '  MEMA 11.75 0 0 0 1 \"\"',\n",
       " '  CLAP 0 11.25 0',\n",
       " 'SURF 2',\n",
       " '  FIMP ',\n",
       " '',\n",
       " '  CURV -4.366240230537484640E-02',\n",
       " '  DISZ 0.47299999999999998',\n",
       " '  DIAM 13 1 0 0 1 \"\"',\n",
       " '  MEMA 11.75 0 0 0 1 \"\"',\n",
       " '  CLAP 0 11.75 0',\n",
       " 'SURF 3',\n",
       " '  FIMP ',\n",
       " '',\n",
       " '  CURV -4.894283476898982077E-02',\n",
       " '  DISZ 2.9399999999999999',\n",
       " '  GLAS F_SILICA',\n",
       " '  DIAM 11.75 1 0 0 1 \"\"',\n",
       " '  MEMA 11.75 0 0 0 1 \"\"',\n",
       " '  FLAP 0 11.75 0',\n",
       " 'SURF 4',\n",
       " '  FIMP ',\n",
       " '',\n",
       " '  CURV 4.894283476898982077E-02',\n",
       " '  DISZ 0.47299999999999998',\n",
       " '  DIAM 11.75 1 0 0 1 \"\"',\n",
       " '  MEMA 11.75 0 0 0 1 \"\"',\n",
       " '  FLAP 0 11.75 0',\n",
       " 'SURF 5',\n",
       " '  FIMP ',\n",
       " '',\n",
       " '  CURV 4.366240230537484640E-02',\n",
       " '  DISZ 11.06',\n",
       " '  GLAS CAF2',\n",
       " '  DIAM 13 1 0 0 1 \"\"',\n",
       " '  MEMA 11.75 0 0 0 1 \"\"',\n",
       " '  CLAP 0 11.75 0',\n",
       " 'SURF 6',\n",
       " '  FIMP ',\n",
       " '',\n",
       " '  CURV -4.366240230537484640E-02',\n",
       " '  DISZ 23.140171185469999',\n",
       " '  DIAM 13 1 0 0 1 \"\"',\n",
       " '  MEMA 11.75 0 0 0 1 \"\"',\n",
       " '  CLAP 0 11.5 0',\n",
       " 'SURF 7',\n",
       " '  FIMP ',\n",
       " '',\n",
       " '  CURV 0.0',\n",
       " '  DISZ 0',\n",
       " '  DIAM 0 1 0 0 1 \"\"',\n",
       " '  MEMA 0 0 0 0 1 \"\"',\n",
       " '']"
      ]
     },
     "execution_count": 7,
     "metadata": {},
     "output_type": "execute_result"
    }
   ],
   "source": [
    "d[k].split(\"\\n\")"
   ]
  },
  {
   "cell_type": "code",
   "execution_count": null,
   "metadata": {},
   "outputs": [],
   "source": []
  }
 ],
 "metadata": {
  "kernelspec": {
   "display_name": "Python 3",
   "language": "python",
   "name": "python3"
  },
  "language_info": {
   "codemirror_mode": {
    "name": "ipython",
    "version": 3
   },
   "file_extension": ".py",
   "mimetype": "text/x-python",
   "name": "python",
   "nbconvert_exporter": "python",
   "pygments_lexer": "ipython3",
   "version": "3.7.3"
  }
 },
 "nbformat": 4,
 "nbformat_minor": 2
}
