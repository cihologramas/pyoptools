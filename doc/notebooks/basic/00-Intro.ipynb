{
 "cells": [
  {
   "cell_type": "markdown",
   "metadata": {},
   "source": [
    "# Introduction to pyOpTools"
   ]
  },
  {
   "cell_type": "markdown",
   "metadata": {},
   "source": [
    "## What is pyOpTools"
   ]
  },
  {
   "cell_type": "markdown",
   "metadata": {},
   "source": [
    "The pyOpTools package is composed by a set of python modules that allow to simulate the behavior of optical systems.\n",
    "Initially it was only oriented to the ray tracing, but currently in the development version it has some tools which can be used to simulate optical fields and their propagation.\n",
    "\n",
    "This tutorial will introduce the simulation of optical systems by ray tracing in a Jupiter notebook.\n",
    "\n",
    "In the following video there is a small demo of an old version of pyOpTools"
   ]
  },
  {
   "cell_type": "code",
   "execution_count": null,
   "metadata": {},
   "outputs": [],
   "source": [
    "from IPython.lib.display import YouTubeVideo\n",
    "\n",
    "YouTubeVideo(\"DB8sfm7pVPI\", width=640, height=480)"
   ]
  },
  {
   "cell_type": "markdown",
   "metadata": {},
   "source": [
    "## Some basic characteristics of pyOpTools \n",
    "\n",
    "1. It is an open source development\n",
    "2. It is being developed by the technological development group of [Combustión Ingenieros S.A.S](http://www.cihologramas.com), and the applied optics group of the [Universidad Nacional de Colombia](http://www.unal.edu.co).\n",
    "3. It is written in [python](http://www.python.org) y [cython](http://www.cython.org).\n",
    "4. It is written using the [object oriented programming paradigm](https://en.wikipedia.org/wiki/Object-oriented_programming.)\n",
    "5. It can perform non-sequential ray-tracing of complex 3D systems. \n",
    "6. It can be used as a module to develop programs to simulate optical systems. \n",
    "7. It can be used in a [Jupyter Notebook](https://www.jupyter.org) to perform interactive simulation tasks \n",
    "8. There is a [FreeCAD](https://www.freecadweb.org/) workbench under development, to simplify its applications to optical design tasks. This development is being hosted in https://github.com/cihologramas/freecad-pyoptools "
   ]
  },
  {
   "cell_type": "markdown",
   "metadata": {},
   "source": [
    "## A basic introduction \n",
    "\n",
    "### Importing pyoptools\n",
    "\n",
    "The fist step to simulate an optical system in pyOpTools, is to import the package. The most simple way to perform this task is to import the [pyoptools.all](../../pyoptools.all.rst) subpackage:"
   ]
  },
  {
   "cell_type": "code",
   "execution_count": null,
   "metadata": {},
   "outputs": [],
   "source": [
    "from pyoptools.all import *"
   ]
  },
  {
   "cell_type": "markdown",
   "metadata": {},
   "source": [
    "After the module is imported, a simulation can be performed. In the following example we will create a simple system composer by a lens, a detector, and a light source. \n",
    "\n",
    "As a first step we will create a lens from the Edmund Scientific catalog (reference 32475), we will create a [CCD-like](../../pyoptools.raytrace.comp_lib.rst#pyoptools.raytrace.comp_lib.CCD) sensor with 20 mm X 20 mm size, and a parallel ray source with cartesian beam distribution.\n",
    "\n",
    "<div class=\"alert alert-info\">\n",
    "    \n",
    "**Note:** In pyOpTools (unless noted) the units are in millimeters.\n",
    "    \n",
    "</div>"
   ]
  },
  {
   "cell_type": "code",
   "execution_count": null,
   "metadata": {},
   "outputs": [],
   "source": [
    "L = library.Edmund[\"32475\"]\n",
    "SEN = CCD(size=(20, 20))  # c.rotateZ(D[2])\n",
    "# c.rotateY(D[1])\n",
    "# c.rotateX(D[0])\n",
    "\n",
    "R = parallel_beam_c(\n",
    "    origin=(0.0, 0.0, 0.0),\n",
    "    direction=(0.0, 0.0, 0.0),\n",
    "    size=(10, 10),\n",
    "    num_rays=(5, 5),\n",
    "    wavelength=0.58929,\n",
    ")"
   ]
  },
  {
   "cell_type": "markdown",
   "metadata": {},
   "source": [
    "with this components created, we will create a system, where the lens is placed at the position (0,0,50) , and the [CCD](../../pyoptools.raytrace.comp_lib.rst#pyoptools.raytrace.comp_lib.CCD) is placed at the position (0,0,150). At the end the [Plot3D](../../pyoptools.gui.ipywidgets.rst#pyoptools.gui.ipywidgets.Plot3D) command will be used to show the resulting system.\n",
    "\n",
    "**Note:** The plot obtained with the Plot3D command is interactive. Meaning you can rotate it (left click), zoom it (scroll wheel), and drag it (right click), by clicking on it and moving the mouse."
   ]
  },
  {
   "cell_type": "code",
   "execution_count": null,
   "metadata": {},
   "outputs": [],
   "source": [
    "S = System(complist=[(L, (0, 0, 50), (0, 0, 0)), (SEN, (0, 0, 150), (0, 0, 0))], n=1)\n",
    "Plot3D(S)"
   ]
  },
  {
   "cell_type": "markdown",
   "metadata": {},
   "source": [
    "After the system is created, we can add the raysource and propagate the system."
   ]
  },
  {
   "cell_type": "code",
   "execution_count": null,
   "metadata": {},
   "outputs": [],
   "source": [
    "S.ray_add(R)\n",
    "S.propagate()\n",
    "Plot3D(S)"
   ]
  },
  {
   "cell_type": "markdown",
   "metadata": {
    "nbsphinx-toctree": {}
   },
   "source": [
    "## More Information\n",
    "\n",
    "[Surfaces in pyOpTools](Surfaces.ipynb)\n",
    "[Creating components with  pyOpTools](SimpleComponents.ipynb)\n",
    "[pyOpTools predefined components](PredefinedComponents.ipynb)\n",
    "[Simple RayTraces](SimpleRayTraces.ipynb)\n",
    "[Ray-tracing example: Autocolimator](Autocollimator.ipynb)\n",
    "[Ray-tracing example: Binocular](Binocular.ipynb)\n",
    "\n",
    "<!--\n",
    "[Geometrical Wavefront](GeomWF.ipynb)\n",
    "[[Simple EOD calculations](SimpleEODs.ipynb)\n",
    "-->\n"
   ]
  },
  {
   "cell_type": "code",
   "execution_count": null,
   "metadata": {},
   "outputs": [],
   "source": []
  }
 ],
 "metadata": {
  "kernelspec": {
   "display_name": "Python 3 (ipykernel)",
   "language": "python",
   "name": "python3"
  },
  "language_info": {
   "codemirror_mode": {
    "name": "ipython",
    "version": 3
   },
   "file_extension": ".py",
   "mimetype": "text/x-python",
   "name": "python",
   "nbconvert_exporter": "python",
   "pygments_lexer": "ipython3",
   "version": "3.11.2"
  }
 },
 "nbformat": 4,
 "nbformat_minor": 4
}
