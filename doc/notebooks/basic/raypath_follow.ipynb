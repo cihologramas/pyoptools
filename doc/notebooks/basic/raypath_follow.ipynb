{
 "cells": [
  {
   "cell_type": "markdown",
   "metadata": {},
   "source": [
    "## Following a ray through a system\n",
    "\n",
    "Sometimes it is necessary to follow a ray that has been ray-traced through a system. In the following example \n",
    "\n",
    "To demonstrate this, a simple system will be simulated. "
   ]
  },
  {
   "cell_type": "code",
   "execution_count": null,
   "metadata": {},
   "outputs": [],
   "source": [
    "from pyoptools.all import *\n",
    "from numpy import pi"
   ]
  },
  {
   "cell_type": "code",
   "execution_count": null,
   "metadata": {},
   "outputs": [],
   "source": [
    "L1 = SphericalLens(\n",
    "    radius=25,\n",
    "    curvature_s1=1.0 / 100.0,\n",
    "    curvature_s2=-1.0 / 100,\n",
    "    thickness=10,\n",
    "    material=material.schott[\"N-BK7\"],\n",
    ")\n",
    "S1 = CCD()\n",
    "S = System(complist=[(L1, (0, 0, 200), (0, 0, 0)), (S1, (0, 0, 400), (0, 0, 0))], n=1)\n",
    "R = [\n",
    "    Ray(pos=(0, 0, 0), dir=(0, 0.1, 1), wavelength=0.650),\n",
    "    Ray(pos=(0, 0, 0), dir=(0, -0.1, 1), wavelength=0.650),\n",
    "    Ray(pos=(0, 0, 0), dir=(0.1, 0, 1), wavelength=0.650),\n",
    "    Ray(pos=(0, 0, 0), dir=(-0.1, 0, 1), wavelength=0.650),\n",
    "    Ray(pos=(0, 0, 0), dir=(0, 0, 1), wavelength=0.650),\n",
    "]\n",
    "S.ray_add(R)\n",
    "S.propagate()\n",
    "Plot3D(\n",
    "    S,\n",
    "    center=(0, 0, 200),\n",
    "    size=(400, 100),\n",
    "    scale=2,\n",
    "    rot=[(0, -pi / 2, 0), (pi / 20, -pi / 10, 0)],\n",
    ")"
   ]
  },
  {
   "cell_type": "markdown",
   "metadata": {},
   "source": [
    "Each ray has an attribute childs, this is a tuple that contains all the rays that continue after the intersection with a surface (this is filled after a propagation). When this tuple contains 0 elements, it means that this is the final ray of the trace or what is the same, this ray does not intersect any element of the system. If this tuple has one or more elements, it means that the ray intersected an optical surface. If the surface is partially reflective, 2 rays (transmitted and reflected) will be created. If the surface is a diffraction gratting, the tuple can contain as much elements as diffraction orders simulated.\n",
    "\n",
    "The next example shows the content of childs for one of the rays simulated in the system above."
   ]
  },
  {
   "cell_type": "code",
   "execution_count": null,
   "metadata": {},
   "outputs": [],
   "source": [
    "r = R[0]\n",
    "r.childs"
   ]
  },
  {
   "cell_type": "markdown",
   "metadata": {},
   "source": [
    "Next there is a simple example show all the rays that make ray-path of one of the rays in the simulation above:"
   ]
  },
  {
   "cell_type": "code",
   "execution_count": null,
   "metadata": {},
   "outputs": [],
   "source": [
    "r = R[0]\n",
    "while True:\n",
    "    print(r, \"\\n\")\n",
    "    if len(r.childs) == 0:\n",
    "        break\n",
    "    r = r.childs[0]"
   ]
  },
  {
   "cell_type": "markdown",
   "metadata": {},
   "source": [
    "In this example we are assuming all the rays have only one child. Care must be taken when this is not the case.\n",
    "\n",
    "In the next example, the position information of each ray is obtained, and a plot is made:"
   ]
  },
  {
   "cell_type": "code",
   "execution_count": null,
   "metadata": {},
   "outputs": [],
   "source": [
    "import matplotlib.pyplot as plt\n",
    "from mpl_toolkits.mplot3d import Axes3D\n",
    "\n",
    "fig = plt.figure()\n",
    "ax = fig.add_subplot(111, projection=\"3d\")\n",
    "\n",
    "\n",
    "for r in R:\n",
    "    X = []\n",
    "    Y = []\n",
    "    Z = []\n",
    "    while True:\n",
    "        x, y, z = r.pos\n",
    "        X.append(x)\n",
    "        Y.append(y)\n",
    "        Z.append(z)\n",
    "\n",
    "        if len(r.childs) == 0:\n",
    "            break\n",
    "        r = r.childs[0]\n",
    "    ax.plot(X, Y, Z, zdir=\"y\")\n",
    "ax.set(xlim=(-100, 100), ylim=(0, 400), zlim=(-100, 100))"
   ]
  },
  {
   "cell_type": "code",
   "execution_count": null,
   "metadata": {},
   "outputs": [],
   "source": []
  }
 ],
 "metadata": {
  "kernelspec": {
   "display_name": "Python 3",
   "language": "python",
   "name": "python3"
  },
  "language_info": {
   "codemirror_mode": {
    "name": "ipython",
    "version": 3
   },
   "file_extension": ".py",
   "mimetype": "text/x-python",
   "name": "python",
   "nbconvert_exporter": "python",
   "pygments_lexer": "ipython3",
   "version": "3.8.6"
  }
 },
 "nbformat": 4,
 "nbformat_minor": 2
}
