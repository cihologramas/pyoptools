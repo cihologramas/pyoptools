{
 "cells": [
  {
   "cell_type": "markdown",
   "metadata": {},
   "source": [
    "## Creating components with pyOpTools\n",
    "\n",
    "To be able to simulate an optical system, the first step is to use the predefined surfaces to create components. In this notebook it will be shown how to create some simple components."
   ]
  },
  {
   "cell_type": "code",
   "execution_count": null,
   "metadata": {},
   "outputs": [],
   "source": [
    "from pyoptools.all import *\n",
    "from numpy import pi, sqrt"
   ]
  },
  {
   "cell_type": "markdown",
   "metadata": {},
   "source": [
    "### Creating a bi-convex lens\n",
    "\n",
    "A bi-convex lens can described as a piece of glass limited by 2 spherical surfaces (the 2 lens faces), and a a cylindrical surface (the lens border). In the next example, this surfaces will be:\n",
    "\n",
    "1. An spherical surface limited by a circular shape with 100 mm diameter (this will be the lens diameter), and a curvature radious of 200 mm.\n",
    "1. A second spherical surface with the same characteristics as the previous.\n",
    "1. A 100. mm diameter cylinder with 10 mm length.\n",
    "\n",
    "<div class=\"alert alert-info\">\n",
    "    \n",
    "**Note:** In pyOpTools the dimensions are always given in millimeters.\n",
    "\n",
    "</div>"
   ]
  },
  {
   "cell_type": "code",
   "execution_count": null,
   "metadata": {},
   "outputs": [],
   "source": [
    "S0 = Spherical(shape=Circular(radius=50), curvature=1.0 / 200.0)\n",
    "S1 = Spherical(shape=Circular(radius=50), curvature=1.0 / 200.0)\n",
    "S2 = Cylinder(radius=50, length=10)"
   ]
  },
  {
   "cell_type": "markdown",
   "metadata": {},
   "source": [
    "With the created surfaces we will create the Component. The component constructor receives 2 important arguments:\n",
    "\n",
    "**surflist**\n",
    "\n",
    "> List of tuples of the form `(surface, (PosX,PosY,PosZ), (RotX,RotY,RotZ)` where `surface` is an instance of a subclass of [Surface](../../pyoptools.raytrace.surface.surface.rst), `PosX,PosY,PosZ`are the surface’s vertex coordinates, and `RotX,RotY,RotZ` are the rotation angles of the surface around the X , Y , and Z axes, given in radians. The rotation about the Z axis if applied first, then the rotation about the Y axis, and finally the rotation about the X axis.\n",
    "\n",
    "**material**\n",
    "\n",
    "> Instance of the class Material with the material definition, or a floating point number to indicate a constant refraction index material.\n"
   ]
  },
  {
   "cell_type": "code",
   "execution_count": null,
   "metadata": {},
   "outputs": [],
   "source": [
    "L1 = Component(\n",
    "    surflist=[\n",
    "        (S0, (0, 0, -5), (0, 0, 0)),\n",
    "        (S1, (0, 0, 5), (0, 0, 0)),\n",
    "        (S2, (0, 0, 6.5), (0, 0, 0)),\n",
    "    ],\n",
    "    material=material.schott[\"N-BK7\"],\n",
    ")\n",
    "Plot3D(L1, size=(120, 120), scale=3, rot=[(pi / 3, 0, 0)])"
   ]
  },
  {
   "cell_type": "markdown",
   "metadata": {},
   "source": [
    "### Creting a 90 degree prism\n",
    "\n",
    "The next code is an example of the creation of a right angle prism. This component is composed as 3 rectangular planes and two triangular planes."
   ]
  },
  {
   "cell_type": "code",
   "execution_count": null,
   "metadata": {},
   "outputs": [],
   "source": [
    "width = 50\n",
    "height = 50\n",
    "reflectivity = 0.5\n",
    "\n",
    "a_face = Plane(shape=Rectangular(size=(width, height)))\n",
    "b_face = Plane(shape=Rectangular(size=(width, height)))\n",
    "\n",
    "\n",
    "h = sqrt(2.0) * width\n",
    "h_face = Plane(shape=Rectangular(size=(h, height)), reflectivity=reflectivity)\n",
    "\n",
    "w2 = width / 2.0\n",
    "\n",
    "e1 = Plane(shape=Triangular(((-w2, w2), (-w2, -w2), (w2, -w2))))\n",
    "e2 = Plane(shape=Triangular(((-w2, w2), (-w2, -w2), (w2, -w2))))"
   ]
  },
  {
   "cell_type": "code",
   "execution_count": null,
   "metadata": {},
   "outputs": [],
   "source": [
    "P = Component(\n",
    "    surflist=[\n",
    "        (a_face, (0, 0, -width / 2), (0, 0, 0)),\n",
    "        (b_face, (width / 2, 0, 0), (0, pi / 2, 0)),\n",
    "        (h_face, (0, 0, 0), (0, -pi / 4, 0)),\n",
    "        (e1, (0, height / 2, 0), (pi / 2, -pi / 2, 0)),\n",
    "        (e2, (0, -height / 2, 0), (pi / 2, -pi / 2, 0)),\n",
    "    ],\n",
    "    material=material.schott[\"N-BK7\"],\n",
    ")\n",
    "Plot3D(P, size=(120, 120), scale=3, rot=[(pi / 6, pi / 8, 0)])"
   ]
  },
  {
   "cell_type": "markdown",
   "metadata": {},
   "source": [
    "### Creating a beam splitting cube\n",
    "\n",
    "The next code shows an example to create a beam splitting cube by using 2 components (prisms defined by a function) to create a system (in this case it is really a subsystem that can be used as a component). An extra feature added to this example, is a _reflective_ characteristic added to one of the surfaces in the prism `P2`, so the subsystem behaves as a beam splitting cube.\n",
    "\n",
    "<div class=\"alert alert-warning\">\n",
    "    \n",
    "**Warning:**\n",
    "\n",
    "1. Care must be taken when using reflective surfaces to avoid the creation of resonnant cavities such as 2 parallel semi-reflective surfaces, as pyOpTools will try to propagate the rays for ever and the system will crash. For this reason, when creating the beam splitting cube, only one of the prisms have a reflective surface.\n",
    "\n",
    "2. pyOpTools can handle 2 surfaces (from different components) in contact, but it can not detect nor handle if the components overlap in space, and will provide an erroneous result. \n",
    "\n",
    "</div>\n",
    " "
   ]
  },
  {
   "cell_type": "code",
   "execution_count": null,
   "metadata": {},
   "outputs": [],
   "source": [
    "def prism(reflectivity=0):\n",
    "    width = 50\n",
    "    height = 50\n",
    "    a_face = Plane(shape=Rectangular(size=(width, height)))\n",
    "    b_face = Plane(shape=Rectangular(size=(width, height)))\n",
    "\n",
    "    h = sqrt(2.0) * width\n",
    "    h_face = Plane(shape=Rectangular(size=(h, height)), reflectivity=reflectivity)\n",
    "\n",
    "    w2 = width / 2.0\n",
    "\n",
    "    e1 = Plane(shape=Triangular(((-w2, w2), (-w2, -w2), (w2, -w2))))\n",
    "    e2 = Plane(shape=Triangular(((-w2, w2), (-w2, -w2), (w2, -w2))))\n",
    "    P = Component(\n",
    "        surflist=[\n",
    "            (a_face, (0, 0, -width / 2), (0, 0, 0)),\n",
    "            (b_face, (width / 2, 0, 0), (0, pi / 2, 0)),\n",
    "            (h_face, (0, 0, 0), (0, -pi / 4, 0)),\n",
    "            (e1, (0, height / 2, 0), (pi / 2, -pi / 2, 0)),\n",
    "            (e2, (0, -height / 2, 0), (pi / 2, -pi / 2, 0)),\n",
    "        ],\n",
    "        material=material.schott[\"N-BK7\"],\n",
    "    )\n",
    "    return P\n",
    "\n",
    "\n",
    "P1 = prism()\n",
    "P2 = prism(reflectivity=0.5)\n",
    "\n",
    "cube = System(complist=[(P1, (0, 0, 0), (0, 0, 0)), (P2, (0, 0, 0), (0, pi, 0))], n=1.0)\n",
    "\n",
    "Plot3D(cube, size=(120, 120), scale=3, rot=[(pi / 6, pi / 8, 0)])"
   ]
  },
  {
   "cell_type": "code",
   "execution_count": null,
   "metadata": {},
   "outputs": [],
   "source": []
  },
  {
   "cell_type": "code",
   "execution_count": null,
   "metadata": {},
   "outputs": [],
   "source": []
  }
 ],
 "metadata": {
  "kernelspec": {
   "display_name": "Python 3 (ipykernel)",
   "language": "python",
   "name": "python3"
  },
  "language_info": {
   "codemirror_mode": {
    "name": "ipython",
    "version": 3
   },
   "file_extension": ".py",
   "mimetype": "text/x-python",
   "name": "python",
   "nbconvert_exporter": "python",
   "pygments_lexer": "ipython3",
   "version": "3.11.2"
  }
 },
 "nbformat": 4,
 "nbformat_minor": 4
}
