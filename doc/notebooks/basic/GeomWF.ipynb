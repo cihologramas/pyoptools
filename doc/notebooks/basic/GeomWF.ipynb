{
 "cells": [
  {
   "cell_type": "code",
   "execution_count": null,
   "metadata": {},
   "outputs": [],
   "source": [
    "from pyoptools.all import *\n",
    "from numpy import pi"
   ]
  },
  {
   "cell_type": "code",
   "execution_count": null,
   "metadata": {},
   "outputs": [],
   "source": [
    "L = library.Edmund.get(\"32494\")\n",
    "C = CCD()\n",
    "\n",
    "S = System(\n",
    "    complist=[(L, (0, 0, 156.0), (0, -pi, 0)), (C, (0, 0, 570), (0.001, 0, 0))], n=1.0\n",
    ")\n",
    "R = point_source_c(span=(0.06, 0.06), wavelength=0.65)\n",
    "\n",
    "\n",
    "S.ray_add(R)\n",
    "S.propagate()\n",
    "Plot3D(\n",
    "    S,\n",
    "    center=(0, 0, 300),\n",
    "    size=(600, 100),\n",
    "    scale=2,\n",
    "    rot=[(0, 0, -3 * pi / 8), (0, 3 * pi / 8, 0)],\n",
    ")  #"
   ]
  },
  {
   "cell_type": "markdown",
   "metadata": {},
   "source": [
    "TODO: When generating the documentation automatically, the methods related to get_optical_path_map... are not working. If the example is run in a normal notebook they work. I don't understand what is the problem. Needs to be fixed."
   ]
  },
  {
   "cell_type": "code",
   "execution_count": null,
   "metadata": {},
   "outputs": [],
   "source": [
    "\n",
    "\n",
    "%pylab inline\n",
    "#imshow(C.get_optical_path_map())\n",
    "#colorbar()"
   ]
  },
  {
   "cell_type": "code",
   "execution_count": null,
   "metadata": {},
   "outputs": [],
   "source": [
    "# poly,error=C.get_optical_path_map_lsq(order=2)"
   ]
  },
  {
   "cell_type": "code",
   "execution_count": null,
   "metadata": {},
   "outputs": [],
   "source": [
    "# print(error)\n",
    "# print(poly)"
   ]
  },
  {
   "cell_type": "markdown",
   "metadata": {},
   "source": [
    "#Ejercicio:\n",
    "\n",
    "Encontrar la configuración del motaje óptico mostrado, de tal manera que el haz salga colimado"
   ]
  },
  {
   "cell_type": "markdown",
   "metadata": {},
   "source": [
    "## Creando una función para calcular parámetros del sistema"
   ]
  },
  {
   "cell_type": "code",
   "execution_count": null,
   "metadata": {},
   "outputs": [],
   "source": [
    "def opsystem(lp):\n",
    "    L = library.Edmund.get(\"32494\")\n",
    "    C = CCD()\n",
    "\n",
    "    S = System(\n",
    "        complist=[(L, (0, 0, lp), (0, -pi, 0)), (C, (0, 0, 570), (0, 0, 0))], n=1.0\n",
    "    )\n",
    "    R = point_source_c(span=(0.06, 0.06), wavelength=0.65)\n",
    "\n",
    "    S.ray_add(R)\n",
    "    S.propagate()\n",
    "    X, Y, Z = C.get_optical_path_data()\n",
    "    return array(Z).std()"
   ]
  },
  {
   "cell_type": "code",
   "execution_count": null,
   "metadata": {},
   "outputs": [],
   "source": [
    "# opsystem(158)"
   ]
  },
  {
   "cell_type": "markdown",
   "metadata": {},
   "source": [
    "## Utilizando otras librerias de python para optimizar el sistema"
   ]
  },
  {
   "cell_type": "code",
   "execution_count": null,
   "metadata": {},
   "outputs": [],
   "source": [
    "# from scipy.optimize import fmin\n",
    "# fmin(opsystem,158)"
   ]
  },
  {
   "cell_type": "code",
   "execution_count": null,
   "metadata": {},
   "outputs": [],
   "source": []
  }
 ],
 "metadata": {
  "kernelspec": {
   "display_name": "Python 3",
   "language": "python",
   "name": "python3"
  },
  "language_info": {
   "codemirror_mode": {
    "name": "ipython",
    "version": 3
   },
   "file_extension": ".py",
   "mimetype": "text/x-python",
   "name": "python",
   "nbconvert_exporter": "python",
   "pygments_lexer": "ipython3",
   "version": "3.8.6"
  }
 },
 "nbformat": 4,
 "nbformat_minor": 1
}
