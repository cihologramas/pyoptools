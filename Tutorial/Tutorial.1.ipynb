{
 "cells": [
  {
   "cell_type": "markdown",
   "metadata": {},
   "source": [
    "# ** _pyOpTools_ ** __Tutorial__\n",
    "\n",
    "*pyOpTools* is a set of *python* and *cython* packages that allow to create, manipulate and simulate optical systems.\n",
    "\n",
    "Optical systems in *pyOptools* are build by serialization of optical components. Optical components at the same time are created by serialization of optical surfaces. Optical surfaces and rays are the basic classes in *pyOpTools*. *pyOpTools* includes several methods to access and manipulate data, a variety of predefined optical components and a catalogue of lenses and optical materials. \n",
    "\n",
    "The goal of this tutorial is to show how to create and display optical systems, how to perform basic simulations and how to access data. It is assumed that *pyOpTools* has been successfully installed. Often *pylab* and *NumPy* modules will be used."
   ]
  },
  {
   "cell_type": "code",
   "execution_count": 33,
   "metadata": {},
   "outputs": [],
   "source": [
    "# Import pyoptools to load all contents\n",
    "\n",
    "from pyoptools.all import *\n",
    "from math import pi"
   ]
  },
  {
   "cell_type": "markdown",
   "metadata": {},
   "source": [
    "## Table of contents:\n",
    "\n",
    "1. [3D Display](#1)\n",
    "\n",
    "2. [Optical surfaces](#2)\n",
    "    \n",
    "    2.1 [Flat surfaces](#21)\n",
    "    \n",
    "    2.2 [Spherical surfaces](#22)\n",
    "    \n",
    "    2.3 [Cylinders and cilyndrical surfaces](#23)\n",
    "    \n",
    "    2.4 [Aspheric surfaces](#24)\n",
    "    \n",
    "    2.5 [Diffraction grating](#25)\n",
    "\n",
    "3. [From optical surfaces to optical components](#3)\n",
    "\n",
    "    3.1 [Predefined optical components](#31)\n",
    "    \n",
    "    3.2 [Lenses](#32)\n",
    "    \n",
    "    3.3 [Mirrors, stops & sensors](#33)\n",
    "    \n",
    "    3.4 [Optical prisms & beamsplitters](#34)\n",
    "    \n",
    "4. [Optical systems](#4)\n",
    "\n",
    "    4.1 [Optical systems without rays](#41)\n",
    "    \n",
    "    4.2 [Rays](#42)\n",
    "    \n",
    "    4.3 [Ray tracing](#43)\n",
    "    \n",
    "    4.4 [Optical maps](#44)\n",
    "    \n",
    "    4.5 [Calculations on optical systems](#45)\n",
    "    \n",
    "    4.6 [Calculations involving rays](#46)\n",
    "\n",
    "5. [More advanced examples](#5)\n",
    "\n",
    "    5.1 [Diffraction grating](#51)\n",
    "\n",
    "    5.2 [Autocollimator](#52)\n",
    "\n",
    "    5.3. [Air spaced triplet telescope objective](#53)\n",
    "\n",
    "    5.4 [Comparison between a spherical and an aspheric lens](#55)\n",
    "\n",
    "    5.5 [Binocular design](#55)\n",
    "\n",
    "    5.6 [Correcting aberrations using a diffraction grating](#56)\n",
    "\n",
    "    5.7 [Creating a hologram](#57)\n"
   ]
  },
  {
   "cell_type": "markdown",
   "metadata": {},
   "source": [
    "## 1. 3D Display <a class=\"anchor\" id=\"1\"></a>\n",
    "To visualize any object created in *pyOpTools* and the raytracings, the class *Plot3D* is used as follows:\n",
    "\n",
    "```python\n",
    "    Plot3D(Obj,center=(x,y,z),size=(a,b),rot=[(rx,ry,rz)],scale=s)\n",
    "```\n",
    "\n",
    "where: \n",
    "\n",
    " $\\quad$  *Obj* is the name of the optical element or system to be plotted\n",
    "   \n",
    " $\\quad$  *(x, y, z)* are the cartesian coordinates of its center\n",
    ">The y axis is pointing downwards and the z axis is pointing towards the screen.\n",
    "   \n",
    " $\\quad$  *(a, b)* are the horizontal and vertical dimensions of the image\n",
    "   \n",
    " $\\quad$  *(rx, ry, rz)* are the rotation angles around the x,y & z axes in radians.\n",
    ">Rotations are made in the following order: first around the *x* axis, then around the *y* axis and finally around the *z* axis.\n",
    "\n",
    ">It is possible to add additional rotations so as to choose the order in which rotations are made\n",
    "\n",
    "> ```python\n",
    "    rot=[(rx1,ry1,rz1),(rx2,ry2,rz2),(rx3,rx3,rx4),...]\n",
    "```\n",
    "> where *(rxi, ryi, rzi)* are the rotation angles of the i-th rotation.\n",
    "\n",
    "$\\quad$ *s* is the scale of the image in the notebook.\n",
    "\n",
    "> **Note:  All distances are measured in $mm$ except the wavelengths which are measured in $\\mu m$**\n",
    "\n",
    "\n",
    "<img style=\"float: left;width: 250px;\" src=\"Repere.png\">\n",
    "\n",
    "In the more recent versions of pyoptools, the images presented in jupyter notebooks are interactive. So you can modify the view using your mouse.\n"
   ]
  },
  {
   "cell_type": "markdown",
   "metadata": {},
   "source": [
    "## 2. Optical surfaces <a class=\"anchor\" id=\"2\"></a>\n",
    "\n",
    "The fundamental objects in *pyOpTools* are the optical surfaces. Optical components and optical systems are just arrangements of optical surfaces. An optical surface is charcterised by its shape, its curvature and its reflectivity and as any other object it has a position and an orientation."
   ]
  },
  {
   "cell_type": "markdown",
   "metadata": {},
   "source": [
    "### 2.1 Flat surfaces <a class=\"anchor\" id=\"2.1\"></a>\n",
    "\n",
    "Flat surfaces can be created as follows:\n",
    "\n",
    "```python \n",
    "    P=Plane(shape=Shape(parameters=(,)),reflectivity=r)\n",
    "```\n",
    "__*Shape* can be either *Circular*, *Rectangular* or *Triangular* and the parameters can be the radius, the rectangular dimensions or the cartesian coordinates of the edges respectively.__"
   ]
  },
  {
   "cell_type": "code",
   "execution_count": 34,
   "metadata": {},
   "outputs": [
    {
     "data": {
      "application/vnd.jupyter.widget-view+json": {
       "model_id": "c6c45ffa94df474f8ea32f780f91fcf6",
       "version_major": 2,
       "version_minor": 0
      },
      "text/plain": [
       "Renderer(camera=PerspectiveCamera(children=(DirectionalLight(intensity=0.7, position=(0.0, 1000.0, 0.0), quate…"
      ]
     },
     "execution_count": 34,
     "metadata": {},
     "output_type": "execute_result"
    }
   ],
   "source": [
    "#Example 2.1 : Plane surfaces\n",
    "\n",
    "P1=Plane(shape=Circular(radius=(20)),reflectivity=1)\n",
    "P2=Plane(shape=Rectangular(size=(40,25)))\n",
    "P3=Plane(shape=Triangular(coord=((-15,15),(5,-20),(18,12))))\n",
    "\n",
    "Plot3D(P1,center=(0,0,0),size=(60,60),rot=[(0,-pi/6,0)],scale=6)"
   ]
  },
  {
   "cell_type": "markdown",
   "metadata": {},
   "source": [
    "### 2.2 Spherical surfaces <a class=\"anchor\" id=\"2.2\"></a>\n",
    "\n",
    "Spherical surfaces can be created as follows:\n",
    "\n",
    "```python\n",
    "        S=Spherical(curvature=c, shape=Shape(parameters=(,)),reflectivity=r)\n",
    "```\n",
    "*Shape* can be either *Circular* or *Rectangular*. The curvature c$=\\frac{1}{R}$, where R is the radius of the sphere that generates the spherical surface.\n"
   ]
  },
  {
   "cell_type": "code",
   "execution_count": 18,
   "metadata": {},
   "outputs": [
    {
     "data": {
      "application/vnd.jupyter.widget-view+json": {
       "model_id": "80e72ddb89d745e59c61b96ea7936f92",
       "version_major": 2,
       "version_minor": 0
      },
      "text/plain": [
       "Renderer(camera=PerspectiveCamera(children=(DirectionalLight(intensity=0.7, position=(0.0, 1000.0, 0.0), quate…"
      ]
     },
     "execution_count": 18,
     "metadata": {},
     "output_type": "execute_result"
    }
   ],
   "source": [
    "# Example 2.2: Spherical surface\n",
    "\n",
    "S=Spherical(curvature=1/300., shape=Circular(radius=145.),reflectivity=1)\n",
    "\n",
    "Plot3D(S,center=(0,0,0),size=(400,400),rot=[(0,-pi/1.9,0)],scale=1)"
   ]
  },
  {
   "cell_type": "markdown",
   "metadata": {},
   "source": [
    "### 2.3 Cylinders and cylidrical surfaces <a class=\"anchor\" id=\"2.3\"></a>\n",
    "\n",
    "Circular cylinders as well as portions of, them with different shapes and curvatures can be created in *pyOpTools* \n",
    "\n",
    "```python\n",
    "     S=Cylindrical(shape=Shape(parameters=(,)),curvature=c,reflectivity=r)\n",
    "```\n",
    "*Shape* can be *Circular*  or *Rectangular* \n",
    "\n",
    "the entire cylinder is created as follows:\n",
    "\n",
    "```python\n",
    "    S=Cylinder(radius=r,length=l,reflectivity=r)\n",
    "```\n",
    "\n"
   ]
  },
  {
   "cell_type": "code",
   "execution_count": 19,
   "metadata": {},
   "outputs": [
    {
     "data": {
      "application/vnd.jupyter.widget-view+json": {
       "model_id": "181393e2fd3d4a05bfdb42406b015526",
       "version_major": 2,
       "version_minor": 0
      },
      "text/plain": [
       "Renderer(camera=PerspectiveCamera(children=(DirectionalLight(intensity=0.7, position=(0.0, 1000.0, 0.0), quate…"
      ]
     },
     "execution_count": 19,
     "metadata": {},
     "output_type": "execute_result"
    }
   ],
   "source": [
    "# Example 2.3: Circular cilynders with different shapes\n",
    "\n",
    "S1=Cylinder(radius=36,length=100,reflectivity=1)\n",
    "S2=Cylindrical(shape=Circular(radius=(50)),curvature=1/100.)\n",
    "S3=Cylindrical(shape=Rectangular(size=(50,100)),curvature=1/20.)\n",
    "\n",
    "Plot3D(S2,center=(0,0,0),size=(150,150),rot=[(pi/6,pi/6,0)],scale=2)"
   ]
  },
  {
   "cell_type": "markdown",
   "metadata": {},
   "source": [
    "### 2.4 Aspheric surfaces <a class=\"anchor\" id=\"2.4\"></a>\n",
    "\n",
    "*pyOpTools* allows creating aspherical surfaces. \n",
    "\n",
    "An aspheric surface can be written as:\n",
    "\n",
    "$$Z=\\frac{(A_x x^2+A_y y^2)}{(1+\\sqrt{(1-(1+K_x)A_x^2 x^2-(1+K_y) A_y^2 y^2))}}+ poly2d()$$\n",
    "\n",
    "The surface is defined by entering the coefficients $A_x, A_y$ and $K_x, K_y$ and the coefficients of the polynomial __*poly2d()*__ -a two dimensional polynomial whose arguments are x,y.\n",
    "\n",
    "```python\n",
    "    sa=Aspherical(shape=Shape(parameters=(,)),Ax=A,Ay=B,Kx=C,Ky=D, poly=poly2d((a,b,c,d,e,f)))\n",
    "```\n",
    "\n",
    ">*Shape* can be either *Circular* or *Rectangular*.\n"
   ]
  },
  {
   "cell_type": "code",
   "execution_count": 20,
   "metadata": {},
   "outputs": [
    {
     "name": "stdout",
     "output_type": "stream",
     "text": [
      "1.0+2.0x+3.0y+4.0x^2+5.0xy+y^2+7.0x^3+8.0x^2y+9.0xy^2+10.0y^3+11.0x^4+12.0x^3y\n"
     ]
    }
   ],
   "source": [
    "# Example 2.4  poly2d in pyOpyools\n",
    "\n",
    "p2d=poly2d((1,2,3,4,5,1,7,8,9,10,11,12))\n",
    "print(p2d)\n"
   ]
  },
  {
   "cell_type": "code",
   "execution_count": 21,
   "metadata": {},
   "outputs": [
    {
     "data": {
      "application/vnd.jupyter.widget-view+json": {
       "model_id": "97b8da49ef4e4c83b8f3be2de39b111b",
       "version_major": 2,
       "version_minor": 0
      },
      "text/plain": [
       "Renderer(camera=PerspectiveCamera(children=(DirectionalLight(intensity=0.7, position=(0.0, 1000.0, 0.0), quate…"
      ]
     },
     "execution_count": 21,
     "metadata": {},
     "output_type": "execute_result"
    }
   ],
   "source": [
    "# Example 2.5 Symmetric aspherical surface\n",
    "\n",
    "AS=Aspherical(shape=Circular(radius=2.5),Ax=.2,Ay=.2,Kx=.1, Ky=.15, poly=poly2d((0,0,0,.5,0,.5)))\n",
    "Plot3D(AS,center=(-2,-2,5),size=(8,8),rot=[(-3*pi/10,pi/4,0)],scale=40)"
   ]
  },
  {
   "cell_type": "markdown",
   "metadata": {},
   "source": [
    "### 2.5 Diffraction grating <a class=\"anchor\" id=\"2.5\"></a>\n",
    "\n",
    "Diffraction gratings in *pyOpTools* are defined as a special kind of surface.\n",
    "\n",
    "```python\n",
    "    g=RPPMask(shape=Shape(parameters=(,)), phm= poly2d([a,b,c,...]),M=[p])\n",
    "```\n",
    "*Shape* can be either *Circular*, *Rectangular* or *Triangular*. The parameter p is the diffraction order to be taken into account. *phm* is a polynomial whose coefficients define the grating pattern as if the the grating were contour map of the three dimensional surface generated by the polynomial.\n",
    "\n",
    "In the case of a linear grating, *phm* can be defined using just the three first coefficients of *poly2d*; only the linear coefficients are needed for the grating definition. *b* and *c* are the linear coefficients of the unit cell in the x & y directions. The value of *a* is not of importance.\n",
    "\n",
    "The coefficients b and c are related to the distances $d_x$ and $d_y$  between adjacent sources on the *x* and *y* axis of the grating respectively:\n",
    "\n",
    "poly2d([a,b,c])\n",
    "$$b=\\frac{2\\pi}{d_x}\\quad c=\\frac{2\\pi}{d_y}$$\n",
    "> A diffraction grating example will be presented in section 5."
   ]
  },
  {
   "cell_type": "markdown",
   "metadata": {},
   "source": [
    "# 3. From Optical surfaces to Optical components <a class=\"anchor\" id=\"3\"></a>\n",
    "\n",
    "By properly linking some optical surfaces it is possible to build several optical components using the *pyOpTools* class *Component* as follows:\n",
    "```python\n",
    "    P=Component(surflist=[(S1,(x1,y1,z1),(rx1,ry1,rz1)),\n",
    "                          (S2,(x2,y2,z2),(rx2,ry2,rz2)),\n",
    "                          (S3,(x3,y3,z3),(rx3,ry3,rz3))],material=n)            \n",
    "```\n",
    "    \n",
    "where \n",
    "\n",
    "$\n",
    "    \\quad S_i$ is the name of the i-th optical surface\n",
    "    \n",
    "$\n",
    "    \\quad(x_i,y_i,z_i)$ are the cartesian coordinates of its center\n",
    "    \n",
    "$\n",
    "    \\quad(rx_i,ry_i,rz_i)$ are the rotation angles in radians around the x,y & z axes.\n",
    "\n",
    "\n",
    "   $\\quad$ n  is the refraction index of the optical component.\n",
    "   \n",
    "*pyOpTools* has a class called *material* which is meant to organize a wide catalogue of refractive index from several lens fabricants, among them:\n",
    "- sumita\n",
    "- ohara\n",
    "- hoya\n",
    "- corning\n",
    "- schott\n",
    "\n",
    "To access the value of the refractive index: \n",
    "\n",
    "```python\n",
    "    n=material.fabricant['ManofacturerTM']\n",
    "```\n",
    "\n",
    "To display all the Manofacturer's TradeMarks of the lenses availables \n",
    "\n",
    "```python\n",
    "    material.fabricant.keys()\n",
    "```"
   ]
  },
  {
   "cell_type": "code",
   "execution_count": 22,
   "metadata": {},
   "outputs": [
    {
     "data": {
      "application/vnd.jupyter.widget-view+json": {
       "model_id": "6f5e64ce5d444756b6512e8af74f7a73",
       "version_major": 2,
       "version_minor": 0
      },
      "text/plain": [
       "Renderer(camera=PerspectiveCamera(aspect=1.5, children=(DirectionalLight(intensity=0.7, position=(0.0, 1000.0,…"
      ]
     },
     "metadata": {},
     "output_type": "display_data"
    },
    {
     "data": {
      "application/vnd.jupyter.widget-view+json": {
       "model_id": "7beb0cd98fd14357ac975f033ef4d0f9",
       "version_major": 2,
       "version_minor": 0
      },
      "text/plain": [
       "Renderer(camera=PerspectiveCamera(aspect=1.5, children=(DirectionalLight(intensity=0.7, position=(0.0, 1000.0,…"
      ]
     },
     "execution_count": 22,
     "metadata": {},
     "output_type": "execute_result"
    }
   ],
   "source": [
    "# Example 3.1: Building an equilateral prism and a cylindrical lens\n",
    "from math import *\n",
    "\n",
    "## Prism \n",
    "\n",
    "L=60\n",
    "h=L/2.*cos(pi/3.)\n",
    "h1=L/2*sin(pi/3)\n",
    "S1=Plane(shape=Rectangular((L,L)))\n",
    "S2=Plane(shape=Rectangular((L,L)))\n",
    "S3=Plane(shape=Rectangular((L,L)))\n",
    "\n",
    "T1=Plane(shape=Triangular(((2*h,h1),(-2*h,h1),(0,-h1))))\n",
    "T2=Plane(shape=Triangular(((2*h,h1),(-2*h,h1),(0,-h1))))\n",
    "\n",
    "P=Component(surflist=[(S1,(0,h1,0),(pi/2,0,0)),\n",
    "                      (S2,(0,0,h),(pi/6,0,0)),\n",
    "                      (S3,(0,0,-h),(-pi/6,0,0)), \n",
    "                      (T1,(L/2,0,0),(0,pi/2,0)),\n",
    "                      (T2,(-L/2,0,0),(0,pi/2,0))\n",
    "                      ], \n",
    "                      material=material.schott[\"N-BK7\"])\n",
    "\n",
    "## Cylindrical lens\n",
    "\n",
    "S4=Cylindrical(shape=Circular(radius=25),curvature=1./200)\n",
    "S5=Cylindrical(shape=Circular(radius=25),curvature=-1./200)\n",
    "\n",
    "L=Component(surflist=[(S5,(0,0,5),(0,0,pi/2)),\n",
    "                      (S4,(0,0,-5),(0,0,pi/2))\n",
    "                      ], \n",
    "                      material=material.schott[\"N-BK7\"])\n",
    "\n",
    "display(Plot3D(P,center=(0,0,0),size=(150,100),scale=2,rot=[(0,pi/2+.2,0),(-.1,0,0)]))\n",
    "Plot3D(L,center=(0,0,0),size=(150,100),scale=2,rot=[(0,pi/2.2,0),(0,0,0)])"
   ]
  },
  {
   "cell_type": "markdown",
   "metadata": {},
   "source": [
    "## 3.1 Predefined optical components <a class=\"anchor\" id=\"31\"></a>\n",
    "\n",
    "Defining optical components surface by surface can be cumbersome. Therefore *pyOptools* includes several predefined components optical components including: different kinds of lenses, mirrors, stops, CCD, glass blocks, optical prismes and beamsplitters."
   ]
  },
  {
   "cell_type": "markdown",
   "metadata": {},
   "source": [
    "## 3.2 Lenses <a class=\"anchor\" id=\"32\"></a>\n",
    "\n",
    "Between the predefined lenses there are ideal lenses, ideal thick lenses, spherical lenses, doublets, airspaced doublets and a catalogue of lenses.\n",
    "\n",
    "To create an ideal lense of focal length *l* and an ideal thick lense of focal length *l* and thickness *t*\n",
    "\n",
    "```python\n",
    "    L2=IdealLens(shape=Shape(parameter=(,)),f=l)\n",
    "    \n",
    "    L=IdealTLens(shape=Shape(parameter=(,)), f=l, d=t)\n",
    "```\n",
    "\n",
    "To create a spherical lens\n",
    "\n",
    "```python\n",
    "    L1=SphericalLens(radius=r,curvature_s1=c1,curvature_s2=c2,thickness=t,material=n)\n",
    "```\n",
    "where *c1* and *c2* are the curvature radii of the surfaces and *n* is the refraction index. The sign convention for the radius of curvature is: positive if the center of curvature is to the right of the surface, and negative if it is to the left.\n",
    "\n",
    "To create a doublet and an air spaced doublet \n",
    "\n",
    "    L=Doublet(radius =r,curvature_s1 = c1, curvature_s2 = c2,\n",
    "                        curvature_s3 = c3, thickness_l1 = t1, thickness_l2 = t2,\n",
    "                        material_l1 = n1, material_l2 = n2)\n",
    "    \n",
    "    L=AirSpacedDoublet(radius = r, curvature_s1= c1,curvature_s2= c2,\n",
    "                        curvature_s3 = c3, curvature_s4= c4, thickness_l1= t1,air_gap= ta, thickness_l2 = t2,\n",
    "                        material_l1 =n1, material_l2 = n2)\n",
    "\n",
    "> Puede haber problemas con la visualizacion  IdealTLenses\n",
    "\n"
   ]
  },
  {
   "cell_type": "code",
   "execution_count": 23,
   "metadata": {},
   "outputs": [
    {
     "data": {
      "application/vnd.jupyter.widget-view+json": {
       "model_id": "c7d56ba3530b43f693aa6f4ec556ea9e",
       "version_major": 2,
       "version_minor": 0
      },
      "text/plain": [
       "Renderer(camera=PerspectiveCamera(children=(DirectionalLight(intensity=0.7, position=(0.0, 1000.0, 0.0), quate…"
      ]
     },
     "execution_count": 23,
     "metadata": {},
     "output_type": "execute_result"
    }
   ],
   "source": [
    "# Example 3.2 Visualization of an air spaced doublet\n",
    "\n",
    "L=AirSpacedDoublet(radius = 25.,curvature_s1= 0.01,curvature_s2= 0.01,\n",
    "                        curvature_s3= 0.01,curvature_s4= 0.01, thickness_l1= 5,air_gap=5 , thickness_l2= 5,\n",
    "                        material_l1=1., material_l2=1.)\n",
    "\n",
    "Plot3D(L,center=(0,0,0),size=(70,70),rot=[(0,pi/1.8,0)],scale=5)"
   ]
  },
  {
   "cell_type": "markdown",
   "metadata": {},
   "source": [
    "### Catalog of lenses\n",
    "\n",
    "The class *library* from *pyOpTools* has the possibility to add catalogues of lenses. The catalogue from *Copyright 2018, Edmund Optics Inc* is included. Other catalogues can be added and compatibility with Zemax libraries is under development.\n",
    "\n",
    "To create a lens from the *Edmund Optics* catalogue:\n",
    "\n",
    "```python\n",
    "    L=library.Edmund.get(\"LENS_CODE\")\n",
    "```\n",
    "\n",
    "The lenses codes and their characteristics can be consulted in /pyoptools/raytrace/library/Edmund/SphOptics.cmp"
   ]
  },
  {
   "cell_type": "markdown",
   "metadata": {},
   "source": [
    "## 3.3 Mirrors, stops & sensors <a class=\"anchor\" id=\"33\"></a>\n",
    "\n",
    "Predefined round and rectancular thick plane mirrors can be created as follows:\n",
    "\n",
    "```python\n",
    "    m=RoundMirror(radius= r, thickness = l, reflectivity = R)\n",
    "    m2=RectMirror(size= (a,b,c), reflectivity = R)\n",
    "```\n",
    "Thin mirrors can be created as optical surfaces by adjusting the shape, size and reflectivity.\n",
    "\n",
    "To create different shapes stops and rectangular CCDs\n",
    "    \n",
    "```python    \n",
    "    AP=Stop(shape=Shape(parameters=(,)), ap_shape=Shape(parameters=(,)))\n",
    "    c=CCD(size=(a,b))\n",
    "```\n",
    "> *Shape* can be be either *Circular*, *Rectangular* or *Triangular*. \n",
    "\n",
    "    \n",
    "\n",
    "In appearance, stops and CCDs look exactly like optical surfaces but when interacting with rays they show different properties.\n",
    "    "
   ]
  },
  {
   "cell_type": "code",
   "execution_count": 24,
   "metadata": {},
   "outputs": [
    {
     "data": {
      "application/vnd.jupyter.widget-view+json": {
       "model_id": "e74ee37faccb42b3a520c2b063a8cd6f",
       "version_major": 2,
       "version_minor": 0
      },
      "text/plain": [
       "Renderer(camera=PerspectiveCamera(aspect=2.0, children=(DirectionalLight(intensity=0.7, position=(0.0, 1000.0,…"
      ]
     },
     "execution_count": 24,
     "metadata": {},
     "output_type": "execute_result"
    }
   ],
   "source": [
    "# Example 3.3 Visulization of a rectangular thick mirror.\n",
    "\n",
    "m2=RectMirror(size= (5,30,60), reflectivity = 1)\n",
    "\n",
    "Plot3D(m2,center=(0,0,30),size=(100,50),rot=[(0,pi/1.7,0)],scale=4)\n"
   ]
  },
  {
   "cell_type": "markdown",
   "metadata": {},
   "source": [
    "## 3.4 Optical prisms & beamsplitters <a class=\"anchor\" id=\"34\"></a>"
   ]
  },
  {
   "cell_type": "markdown",
   "metadata": {},
   "source": [
    "A glass block of refractive index *n*  and a beamsplitter whose hipotenuse reflectivity is *R*  are created as follows:\n",
    "\n",
    "```python\n",
    "    B=Block(size=(a,b,c), material=n)\n",
    "    BS=BeamSplitingCube(size= l, reflectivity=R, material= n)\n",
    "```\n",
    "\n",
    "To create a right angle prism of dimensions *w* and *h* and hipotenuse of reflectivity of *R*  and a penta-prism of side *l* and refractive index *n*:\n",
    "\n",
    "```python\n",
    "    RP=RightAnglePrism(width=w,height=h,material=n,reflectivity=R)\n",
    "    PP=PentaPrism(l, material= n)\n",
    "```"
   ]
  },
  {
   "cell_type": "code",
   "execution_count": 25,
   "metadata": {
    "scrolled": true
   },
   "outputs": [
    {
     "name": "stderr",
     "output_type": "stream",
     "text": [
      "/home/rdg/repos/pyoptools/pyoptools/raytrace/_comp_lib/cube.py:149: DeprecationWarning: This class will be deprecated (the spelling is not correct) . Please fix your code by using BeamSplittingCube instead\n",
      "  warnings.warn(\n",
      "/home/rdg/apps/miniconda3/envs/pyoptools-dev2/lib/python3.10/site-packages/ipywidgets/widgets/widget.py:443: DeprecationWarning: Passing unrecognized arguments to super(MeshPhongMaterial).__init__(ambient='#050505').\n",
      "object.__init__() takes exactly one argument (the instance to initialize)\n",
      "This is deprecated in traitlets 4.2.This error will be raised in a future release of traitlets.\n",
      "  super().__init__(**kwargs)\n"
     ]
    },
    {
     "data": {
      "application/vnd.jupyter.widget-view+json": {
       "model_id": "f5a66fceb8cc4c5aadfeb9195c75af97",
       "version_major": 2,
       "version_minor": 0
      },
      "text/plain": [
       "Renderer(camera=PerspectiveCamera(children=(DirectionalLight(intensity=0.7, position=(0.0, 1000.0, 0.0), quate…"
      ]
     },
     "execution_count": 25,
     "metadata": {},
     "output_type": "execute_result"
    }
   ],
   "source": [
    "# Example 3.4 Visulization of a beamsplitter\n",
    "\n",
    "BS=BeamSplitingCube(size=20, reflectivity=0.5, material=material.lzos[\"BK8\"])\n",
    "\n",
    "\n",
    "Plot3D(BS,center=(0,0,0),size=(50,50),rot=[(pi/4,0,0)],scale=6)"
   ]
  },
  {
   "cell_type": "markdown",
   "metadata": {},
   "source": [
    "y # 4. Optical systems <a class=\"anchor\" id=\"4\"></a>\n",
    "\n",
    "In order to make ray tracing, *pyOpTools* uses the class *System*. A System is constitued by a set of optical components properly arranged and a light rays.\n",
    "\n",
    "By adding a CCD anywhere in the optical path it is possible to visualize the profile of the beam as it would be captured by an optical sensor."
   ]
  },
  {
   "cell_type": "markdown",
   "metadata": {},
   "source": [
    "## 4.1 Optical systems without rays <a class=\"anchor\" id=\"41\"></a>\n",
    "\n",
    "First, we consider only an optical system without rays. Rays will be added later.\n",
    "\n",
    "```python\n",
    "    S=System(complist=[(C1,(x1,y1,z1),(rx1,ry1,rz1)),(C2,(x2,y2,z2),(rx2,ry2,rz2)),(C3,(x3,y3,z3),(rx3,ry3,rz3))],n=1)\n",
    "```    \n",
    "where\n",
    "\n",
    "$\n",
    "    \\quad C_i$ is the name of the i-th optical component\n",
    "    \n",
    "$\n",
    "    \\quad(x_i,y_i,z_i)$ are the cartesian coordinates of its center\n",
    "    \n",
    "$\n",
    "    \\quad(rx_i,ry_i,rz_i)$ are the rotation angles in radians around the x,y & z axes\n",
    "\n",
    "\n",
    "   $\\quad$ *n*  is the refraction index of the medium in which the optical system is immersed\n",
    "   "
   ]
  },
  {
   "cell_type": "code",
   "execution_count": 26,
   "metadata": {
    "scrolled": true
   },
   "outputs": [
    {
     "name": "stderr",
     "output_type": "stream",
     "text": [
      "/home/rdg/repos/pyoptools/pyoptools/raytrace/mat_lib/mat_eq.py:206: DeprecationWarning: `np.float` is a deprecated alias for the builtin `float`. To silence this warning, use `float` by itself. Doing this will not modify any behavior and is safe. If you specifically wanted the numpy scalar type, use `np.float64` here.\n",
      "Deprecated in NumPy 1.20; for more details and guidance: https://numpy.org/devdocs/release/1.20.0-notes.html#deprecations\n",
      "  coef = numpy.fromiter(c[\"coefficients\"].split(), dtype=numpy.float)\n"
     ]
    },
    {
     "data": {
      "application/vnd.jupyter.widget-view+json": {
       "model_id": "0e109a3a04fc4567ae13c904d84dc3ec",
       "version_major": 2,
       "version_minor": 0
      },
      "text/plain": [
       "Renderer(camera=PerspectiveCamera(aspect=2.5, children=(DirectionalLight(intensity=0.7, position=(0.0, 1000.0,…"
      ]
     },
     "execution_count": 26,
     "metadata": {},
     "output_type": "execute_result"
    }
   ],
   "source": [
    "#Example 4.1: Visualization of 2 predefined lenses and a CCD\n",
    "\n",
    "L2=SphericalLens(radius=25,curvature_s1=1./100.,curvature_s2=-1./100,thickness=10,material=material.schott[\"N-BK7\"])\n",
    "L3=SphericalLens(radius=25,curvature_s1=1./100.,curvature_s2=-1./100,thickness=10,material=material.schott[\"N-BK7\"])\n",
    "\n",
    "C=CCD()\n",
    "\n",
    "S=System(complist=[(L2,(0,0,100),(0,0,0)),(L3,(0,0,120),(0,0,0)),(C,(0,0,215),(0,0,0)) ],n=1)\n",
    "\n",
    "Plot3D(S,center=(0,0,150),size=(250,100),scale=1,rot=[(0,pi/1.9,0)])"
   ]
  },
  {
   "cell_type": "markdown",
   "metadata": {},
   "source": [
    "## 4.2 Rays <a class=\"anchor\" id=\"42\"></a>\n",
    "\n",
    "In *pyOpTools* a ray is an object characterised by its origin coordinates (x,y,z), its direction in cartesian coordinates (ux,uy,uz), its intensity, and its wavelength in $\\mu$m.\n",
    "\n",
    "```python\n",
    "    R=Ray(pos=(x,y,z),dir=(ux,uy,uz),intensity=I,wavelength=lambda)\n",
    "```\n",
    "several rays can be generated under the same name as a list of rays.\n",
    "\n",
    "\n",
    "It is also possible to create a beam of parallel rays or a beam of rays emitted from a point source.\n",
    "\n",
    "```python\n",
    "    PB=parallel_beam_c(origin=(x,y,z),direction=(rx,ry,rz),size=(a,b),num_rays=(na,nb),wavelength=lambda,label=\"\")\n",
    "\n",
    "    RS=point_source_c(origin=(x,y,z),direction=(rx,ry,rz),span=(alpha,beta),num_rays=(na,nb),wavelength=labmda,label=\"\")\n",
    "```                     \n",
    "where \n",
    "    \n",
    "    (x,y,z) are the coordinates of the origin of the central ray of the beam \n",
    "    \n",
    "    (rx,ry,rz) are the rotation angles in radians around the x,y & z axes made to a ray propagating in\n",
    "         the z direction.\n",
    "    \n",
    "    (a,b) is the size of the beam in perpendicular directions to the propagation axis\n",
    "    \n",
    "    (na,nb) number of rays in perpendicular directions to the propagation axis\n",
    "    \n",
    "    (alpha,beta) are the angular dimensions of the beam in perpendicular directions to the propagation axis\n",
    "> by default the beam points towards the positive z axis, it has an intensity of intensity=1, wavelength=0.58929; num_rays=(10,10), and an angular size of $\\frac{\\pi}{8}$ or linear size of 1 depending on the case.\n",
    "\n",
    "\n",
    "\n",
    "In order to add rays as a part of the optical system we use the method *ray_add*:\n",
    "\n",
    "```python\n",
    "    S.ray_add(R)\n",
    "```\n",
    "The method *propagate* allows to calculate the optical path followed by the rays that can be later visulized using Plot3D. \n",
    "\n",
    "```python\n",
    "    S.propagate()\n",
    "```    "
   ]
  },
  {
   "cell_type": "code",
   "execution_count": 35,
   "metadata": {
    "scrolled": true
   },
   "outputs": [
    {
     "data": {
      "application/vnd.jupyter.widget-view+json": {
       "model_id": "bfa2706e74ae4d8d9f7ec30ebc554fbf",
       "version_major": 2,
       "version_minor": 0
      },
      "text/plain": [
       "Renderer(camera=PerspectiveCamera(aspect=2.0, children=(DirectionalLight(intensity=0.7, position=(0.0, 1000.0,…"
      ]
     },
     "execution_count": 35,
     "metadata": {},
     "output_type": "execute_result"
    }
   ],
   "source": [
    "#Example 4.2  Visualization of a default parallel beam\n",
    "\n",
    "S=System()\n",
    "R=parallel_beam_c()\n",
    "\n",
    "S.ray_add(R)\n",
    "S.propagate()\n",
    "\n",
    "Plot3D(S,center=(0.3,-0.4,0.6),size=(4,2),scale=150,rot=[(pi/4,pi/6,pi/4)])"
   ]
  },
  {
   "cell_type": "markdown",
   "metadata": {},
   "source": [
    "## 4.3 Ray tracing <a class=\"anchor\" id=\"43\"></a>\n",
    "\n",
    "To perform the ray tracing through an optical system containing optical components, rays must be added to the optical system and then propagated."
   ]
  },
  {
   "cell_type": "code",
   "execution_count": 41,
   "metadata": {},
   "outputs": [
    {
     "data": {
      "application/vnd.jupyter.widget-view+json": {
       "model_id": "360c8729fde04b91ab20ced49f8fc15a",
       "version_major": 2,
       "version_minor": 0
      },
      "text/plain": [
       "Renderer(camera=PerspectiveCamera(aspect=2.5, children=(DirectionalLight(intensity=0.7, position=(0.0, 1000.0,…"
      ]
     },
     "execution_count": 41,
     "metadata": {},
     "output_type": "execute_result"
    }
   ],
   "source": [
    "# Example 4.3 : Ray tracing for the optical system of the example 4.1\n",
    "\n",
    "L1=SphericalLens(radius=25,curvature_s1=1./100.,curvature_s2=-1./100,thickness=10,material=material.schott[\"N-BK7\"])\n",
    "L2=SphericalLens(radius=25,curvature_s1=1./100.,curvature_s2=-1./100,thickness=10,material=material.schott[\"N-BK7\"])\n",
    "\n",
    "CSys=CCD()\n",
    "\n",
    "S=System(complist=[(L1,(0,0,100),(0,0,0)),(L2,(0,0,120),(0,0,0)),(CSys,(0,0,210),(0,0,0)) ],n=1)\n",
    "\n",
    "R=point_source_c(origin=(0,0,0),direction=(0,0,0),span=(pi/8,pi/8),num_rays=(5,4),wavelength=0.45,label=\"\")\n",
    "\n",
    "S.ray_add(R)\n",
    "S.propagate()\n",
    "Plot3D(S,center=(0,0,110),size=(250,100),scale=4,rot=[(0,pi/2,0),(pi/20,-pi/10,0)])\n",
    "#Plot3D(S,center=(0,0,100),size=(125,125),scale=5,rot=[(0,0,0),(0,0,0)])"
   ]
  },
  {
   "cell_type": "code",
   "execution_count": 42,
   "metadata": {},
   "outputs": [
    {
     "data": {
      "application/vnd.jupyter.widget-view+json": {
       "model_id": "ab30ecd010ed4c189e484b07f3b35719",
       "version_major": 2,
       "version_minor": 0
      },
      "text/plain": [
       "Renderer(camera=PerspectiveCamera(aspect=2.5, children=(DirectionalLight(intensity=0.7, position=(0.0, 1000.0,…"
      ]
     },
     "execution_count": 42,
     "metadata": {},
     "output_type": "execute_result"
    }
   ],
   "source": [
    "## Example 4.4 : Spectroscope using the components from the example 3.1\n",
    "\n",
    "## Taken from the example 3.1\n",
    "# Prism\n",
    "from math import *\n",
    "\n",
    "L=60\n",
    "h=L/2.*cos(pi/3.)\n",
    "h1=L/2*sin(pi/3)\n",
    "S1=Plane(shape=Rectangular((L,L)))\n",
    "S2=Plane(shape=Rectangular((L,L)))\n",
    "S3=Plane(shape=Rectangular((L,L)))\n",
    "T1=Plane(shape=Triangular(((2*h,h1),(-2*h,h1),(0,-h1))))\n",
    "T2=Plane(shape=Triangular(((2*h,h1),(-2*h,h1),(0,-h1))))\n",
    "P=Component(surflist=[(S1,(0,h1,0),(pi/2,0,0)),\n",
    "                      (S2,(0,0,h),(pi/6,0,0)),\n",
    "                      (S3,(0,0,-h),(-pi/6,0,0)), \n",
    "                      (T1,(L/2,0,0),(0,pi/2,0)),\n",
    "                      (T2,(-L/2,0,0),(0,pi/2,0))\n",
    "                      ], \n",
    "                      material=material.schott[\"N-BK7\"])\n",
    "\n",
    "S4=Cylindrical(shape=Circular(radius=25),curvature=1./200)\n",
    "S5=Cylindrical(shape=Circular(radius=25),curvature=-1./200)\n",
    "\n",
    "# Lens\n",
    "L=Component(surflist=[(S5,(0,0,5),(0,0,pi/2)),\n",
    "                      (S4,(0,0,-5),(0,0,pi/2))\n",
    "                      ], \n",
    "                      material=material.schott[\"N-BK7\"])\n",
    "\n",
    "# CCD and optical system\n",
    "CSpect=CCD()\n",
    "PCCD=243.5\n",
    "\n",
    "S=System(complist=[(P,(0,0,0),(0,0,0)),\n",
    "                   (L,(0,.35*60,60),(-0.357,0,0)),\n",
    "                   (CSpect,(0,.35*PCCD,PCCD),(-0.357,0,0))],n=1)\n",
    "\n",
    "\n",
    "## Polychromatic beam\n",
    "R=[]\n",
    "\n",
    "for x in range (-5,6,1):\n",
    "    for y in range (-5,6,2):\n",
    "        R.append(Ray(pos=(x,y+35,-100),dir=(0,-.35,1),wavelength=.45))\n",
    "        R.append(Ray(pos=(x,y+35,-100),dir=(0,-.35,1),wavelength=.5))\n",
    "        R.append(Ray(pos=(x,y+35,-100),dir=(0,-.35,1),wavelength=.55))\n",
    "        R.append(Ray(pos=(x,y+35,-100),dir=(0,-.35,1),wavelength=.60))\n",
    "        R.append(Ray(pos=(x,y+35,-100),dir=(0,-.35,1),wavelength=.65))\n",
    "S.ray_add(R)\n",
    "S.propagate()\n",
    "\n",
    "Plot3D(S,center=(0,.35*60,60),size=(500,200),scale=2,rot=[(0,pi/2+.2,0),(-.1,0,0)])\n"
   ]
  },
  {
   "cell_type": "markdown",
   "metadata": {},
   "source": [
    "### 4.4 Optical maps <a class=\"anchor\" id=\"44\"></a>\n",
    "\n",
    "As it was mentioned, by putting a CCD across the light beam the optical path length traversed by the rays hitting the detector as well as the hit points on the CCD can be obtained.\n",
    "\n",
    "Let C be a CCD:\n",
    "\n",
    "To visualize the hit points on the CCD as a spot diagram\n",
    "\n",
    "```python\n",
    "    spot_diagram(C)\n",
    "\n",
    "    spot_diagram_c(C) #Colored\n",
    "```\n",
    "To create a map of the optical path length of the the beam hitting the detector.\n",
    "\n",
    "```python\n",
    "    C.get_optical_path_map(size=(a,b))\n",
    "``` \n",
    ">This method uses the optical path length of the rays hitting the surface to \n",
    "        create a optical path length map of size (a,b) in the surface of the CCD. The returned value is an interpolation of the\n",
    "        values obtained by the rays. The method needs at least 20 rays to perform the interpolation.\n",
    "        \n",
    "To get a p-order polynomial approximation of the optical path length map, and the associated error\n",
    "\n",
    "```python\n",
    "    poly,error=C.get_optical_path_map_lsq(order=p)\n",
    "```\n",
    "       \n",
    "\n",
    "To get both the hit points in the CCD and the optical path length.\n",
    "\n",
    "```python\n",
    "    C.get_optical_path_data()\n",
    "```\n",
    ">Data is displayed as a tuple X,Y,D, where X & Y contain the hit points, and \n",
    "        D containing the optical path."
   ]
  },
  {
   "cell_type": "code",
   "execution_count": 15,
   "metadata": {},
   "outputs": [
    {
     "data": {
      "text/plain": [
       "([0.4565802759425903,\n",
       "  -0.45658027594258765,\n",
       "  1.8124557397722256,\n",
       "  -0.20643383967222118,\n",
       "  0.20643383967222206,\n",
       "  -1.8124557397722256,\n",
       "  1.058982857694712,\n",
       "  -0.39588193357762425,\n",
       "  0.39588193357762336,\n",
       "  -1.058982857694712,\n",
       "  1.8124557397722256,\n",
       "  -0.20643383967222118,\n",
       "  0.20643383967222206,\n",
       "  -1.8124557397722256,\n",
       "  0.4565802759425903,\n",
       "  -0.45658027594258765],\n",
       " [-1.3886103716386202,\n",
       "  -1.3886103716386202,\n",
       "  -0.9150187845717763,\n",
       "  0.31087134222859625,\n",
       "  0.31087134222859625,\n",
       "  -0.9150187845717763,\n",
       "  0.0,\n",
       "  0.0,\n",
       "  0.0,\n",
       "  0.0,\n",
       "  0.9150187845717763,\n",
       "  -0.31087134222859625,\n",
       "  -0.31087134222859625,\n",
       "  0.9150187845717763,\n",
       "  1.3886103716386202,\n",
       "  1.3886103716386202],\n",
       " [220.85950385653626,\n",
       "  220.85950385653626,\n",
       "  221.00077938937272,\n",
       "  220.49883328696868,\n",
       "  220.49883328696868,\n",
       "  221.00077938937272,\n",
       "  220.7661279552741,\n",
       "  220.4943566553792,\n",
       "  220.4943566553792,\n",
       "  220.7661279552741,\n",
       "  221.00077938937272,\n",
       "  220.49883328696868,\n",
       "  220.49883328696868,\n",
       "  221.00077938937272,\n",
       "  220.85950385653626,\n",
       "  220.85950385653626])"
      ]
     },
     "execution_count": 15,
     "metadata": {},
     "output_type": "execute_result"
    },
    {
     "data": {
      "image/png": "[encoded data removed]",
      "text/plain": [
       "<Figure size 640x480 with 1 Axes>"
      ]
     },
     "metadata": {},
     "output_type": "display_data"
    }
   ],
   "source": [
    "# Example 4.5:  Recovering the information from the CCD of the example 4.3\n",
    "\n",
    "spot_diagram_c(CSys)\n",
    "CSys.get_optical_path_data()\n"
   ]
  },
  {
   "cell_type": "code",
   "execution_count": 16,
   "metadata": {},
   "outputs": [
    {
     "name": "stdout",
     "output_type": "stream",
     "text": [
      "220.5129748923761+4.5717879650862024e-15x+-9.937393208863556e-15y+0.11358793501737958x^2+-2.2480617568677483e-15xy+0.16184100685712138y^2\n",
      "%pylab is deprecated, use %matplotlib inline and import the required libraries.\n",
      "Populating the interactive namespace from numpy and matplotlib\n"
     ]
    },
    {
     "name": "stderr",
     "output_type": "stream",
     "text": [
      "/home/rdg/repos/pyoptools/pyoptools/raytrace/_comp_lib/ccd.py:233: DeprecationWarning: `np.int` is a deprecated alias for the builtin `int`. To silence this warning, use `int` by itself. Doing this will not modify any behavior and is safe. When replacing `np.int`, you may wish to use e.g. `np.int64` or `np.int32` to specify the precision. If you wish to review your current use, check the release note link for additional information.\n",
      "Deprecated in NumPy 1.20; for more details and guidance: https://numpy.org/devdocs/release/1.20.0-notes.html#deprecations\n",
      "  e, p = polyfit2d(X, Y, Z, order=order)\n",
      "/home/rdg/apps/miniconda3/envs/pyoptools-dev2/lib/python3.10/site-packages/IPython/core/magics/pylab.py:162: UserWarning: pylab import has clobbered these variables: ['hypot', 'fmod', 'log10', 'nextafter', 'tanh', 'modf', 'lcm', 'floor', 'log', 'gcd', 'sinh', 'copysign', 'isfinite', 'expm1', 'tan', 'gamma', 'degrees', 'log2', 'remainder', 'poly', 'sin', 'cross', 'isinf', 'cos', 'radians', 'fabs', 'Polygon', 'cosh', 'ldexp', 'pi', 'inf', 'unwrap', 'nan', 'frexp', 'exp', 'e', 'trunc', 'ceil', 'sqrt', 'isclose', 'isnan', 'log1p', 'prod']\n",
      "`%matplotlib` prevents importing * from pylab and numpy\n",
      "  warn(\"pylab import has clobbered these variables: %s\"  % clobbered +\n"
     ]
    },
    {
     "data": {
      "text/plain": [
       "<matplotlib.colorbar.Colorbar at 0x7fdc5c236ec0>"
      ]
     },
     "execution_count": 16,
     "metadata": {},
     "output_type": "execute_result"
    },
    {
     "data": {
      "image/png": "[encoded data removed]",
      "text/plain": [
       "<Figure size 640x480 with 2 Axes>"
      ]
     },
     "metadata": {},
     "output_type": "display_data"
    }
   ],
   "source": [
    "# Example 4.6: Polynomial approximation and visualization of the optical path length map of the example 4.3 using pylab.\n",
    "\n",
    "poly,error=CSys.get_optical_path_map_lsq(order=2)\n",
    "print(poly)\n",
    "\n",
    "%pylab inline\n",
    "imshow(CSys.get_optical_path_map())\n",
    "colorbar()\n"
   ]
  },
  {
   "cell_type": "code",
   "execution_count": 17,
   "metadata": {},
   "outputs": [
    {
     "data": {
      "image/png": "[encoded data removed]",
      "text/plain": [
       "<Figure size 640x480 with 1 Axes>"
      ]
     },
     "metadata": {},
     "output_type": "display_data"
    }
   ],
   "source": [
    "# Example 4.7: spot diagram for the CCD of the example 4.4\n",
    "\n",
    "spot_diagram_c(CSpect)"
   ]
  },
  {
   "cell_type": "markdown",
   "metadata": {},
   "source": [
    "##  4.5 Calculations on optical systems <a class=\"anchor\" id=\"45\"></a>\n",
    "\n",
    "*pyOptools* module *calc* includes useful methods to perform calculations involving rays and compute the parameters of the optical systems. \n",
    "\n",
    "Given a pair of rays it is possible to find the intersection point or, if they do not intersect, the nearest points.\n",
    "To compute the coordinates of intersection or the coordinates of nearest points and the distance between them:\n",
    "\n",
    "```python\n",
    "    intersection(Ray1,Ray2)\n",
    "    nearest_points(Ray1, Ray2)\n",
    "```\n",
    "To compute the parameters of the optical systems it is necessary to define an optical axis, represented as a single not propagated ray. For these calculations to work systems must have rotational symmetry.\n",
    "\n",
    "Let *S* be an optical system and *OA* its optical axis.\n",
    " \n",
    "To find the primary principal plane\n",
    "```python\n",
    "    find_ppp(S, OA)\n",
    "```\n",
    "Given the aperture stop *AP* or a ccd *C* located in the aperture plane, to find the pupil location\n",
    "```python\n",
    "    pupil_location(S,AP,OA)\n",
    "```\n",
    "and to get the parameters of a chief ray from an object point of coordinates *(x,y,z)*\n",
    "```python\n",
    "    chief_ray_search(S,AP,(x,y,z),(rx,ry,rz))\n",
    "```\n",
    "> The (rx,ry,rz) angles, containing the rotations made to a ray propagating in the z direction, define a test direction used as seed for the algorithm.\n",
    "\n",
    "To calculate the image position of an object located in the optical axis\n",
    "```python\n",
    "    paraxial_location(S, OA):\n",
    "```\n",
    "> The object position is specified by the coordinates of the optical axis origin.\n",
    "\n",
    "> A boolean indicates if the image is real *True* or virtual *False*.\n",
    "\n"
   ]
  },
  {
   "cell_type": "code",
   "execution_count": 18,
   "metadata": {},
   "outputs": [
    {
     "data": {
      "application/vnd.jupyter.widget-view+json": {
       "model_id": "457797009527471da5cfecf7c5211d18",
       "version_major": 2,
       "version_minor": 0
      },
      "text/plain": [
       "Renderer(camera=OrthographicCamera(bottom=-200.0, children=(DirectionalLight(intensity=0.7, position=(0.0, 100…"
      ]
     },
     "execution_count": 18,
     "metadata": {},
     "output_type": "execute_result"
    }
   ],
   "source": [
    "# Example 4.8: Chief ray for the system from the example 4.3 with an aperture stop between the two lenses\n",
    "\n",
    "L1=SphericalLens(radius=25,curvature_s1=1./100.,curvature_s2=-1./100,thickness=10,material=material.schott[\"N-BK7\"])\n",
    "L2=SphericalLens(radius=25,curvature_s1=1./100.,curvature_s2=-1./100,thickness=10,material=material.schott[\"N-BK7\"])\n",
    "\n",
    "C=CCD()\n",
    "\n",
    "AP=Stop(shape=Circular(radius=(30)), ap_shape=Circular(radius=(25)))\n",
    "\n",
    "S=System(complist=[(L1,(0,0,100),(0,0,0)),(L2,(0,0,120),(0,0,0)),(AP,(0,0,110),(0,0,0)), (C,(0,0,150),(0,0,0))  ],n=1)\n",
    "\n",
    "CHR=chief_ray_search(S,AP,(0,10,0),(0,-1,1))\n",
    "\n",
    "S.ray_add(CHR)\n",
    "S.propagate()\n",
    "Plot3D(S,center=(0,0,100),size=(150,100),scale=4,rot=[(0,pi/2.1,0)])\n"
   ]
  },
  {
   "cell_type": "markdown",
   "metadata": {},
   "source": [
    "### 4.6 Calculations inolving rays <a class=\"anchor\" id=\"46\"></a>\n",
    "\n",
    "The class *ray* has several useful methods when dealing with rays.\n",
    "\n",
    "To change the coordinate system of a ray to a system whose coordinates in the old coordinates system are *(x, y, z)* and whose rotation angles in the old coordinates system are (rx, ry, rz).\n",
    "> In this case, rotations are made in the following order: first around the *z* axis, then around the *y* axis and finally around the *x* axis.\n",
    "\n",
    "> Rotation is applied before translation\n",
    "\n",
    "```python\n",
    "    ch_coord_sys_inv((x,y,z),(rx,ry,rz))\n",
    "```\n",
    "To make a copy of a ray\n",
    "```python\n",
    "    copy()\n",
    "```\n",
    "To make a copy of a ray with the opposite direction\n",
    "```python\n",
    "    reverse()\n",
    "```\n",
    "When a ray interacts with an optical surface, the original ray, called *parent* ray, ends and a new ray is created. This process is repeated every time the ray hits an optical surface. Those new rays are called *child* rays and they follow the optical path of the *parent* ray. *Child* rays and are defined as a property of the original ray.  \n",
    "\n",
    "To get the final *child * ray of the propagation\n",
    "```python\n",
    "    get_final_rays()\n",
    "```\n",
    "\n",
    "To add a *child* ray\n",
    "```python\n",
    "    add_child(ChildRay)\n",
    "```\n",
    "\n",
    "To get the optical path length traversed by a ray from its origin to its end (intersection with a surface)\n",
    "```python\n",
    "    optical_path(self)\n",
    "```\n",
    "Finally, to get the optical path length of a *parent* ray whose *child* ray is *CR*, from the origin of the *parent* ray to the origin of the *child* ray\n",
    "\n",
    "```python\n",
    "    CR.optical_path_parent()\n",
    "```\n"
   ]
  },
  {
   "cell_type": "code",
   "execution_count": 19,
   "metadata": {},
   "outputs": [
    {
     "data": {
      "application/vnd.jupyter.widget-view+json": {
       "model_id": "21b3d2258511436db3ab60a796baa6fc",
       "version_major": 2,
       "version_minor": 0
      },
      "text/plain": [
       "Renderer(camera=OrthographicCamera(bottom=-120.0, children=(DirectionalLight(intensity=0.7, position=(0.0, 100…"
      ]
     },
     "metadata": {},
     "output_type": "display_data"
    },
    {
     "data": {
      "text/plain": [
       "155.0"
      ]
     },
     "execution_count": 19,
     "metadata": {},
     "output_type": "execute_result"
    }
   ],
   "source": [
    "# Example 4.9: Optical path of a ray\n",
    "\n",
    "M=RectMirror(size= (20,30,3), reflectivity = 1)\n",
    "C=CCD()\n",
    "\n",
    "S=System(complist=[(M,(0,0,100),(0,pi/4,pi/2)), (M,(0,-25,100),(0,pi/4,pi/2)), (C,(0,-25,130),(0,0,0))],n=1)\n",
    "\n",
    "R=Ray(pos=(0,0,0),dir=(0,0,1),wavelength=.55) #Parent ray\n",
    "\n",
    "S.ray_add(R)\n",
    "S.propagate()\n",
    "\n",
    "display(Plot3D(S,center=(0,-10,80),size=(140,60),scale=4,rot=[(0,pi/2,0)]))\n",
    "\n",
    "#R.optical_path()   # Optical path from the origin to the first mirror\n",
    "(R.get_final_rays()[0]).optical_path_parent() # Optical path from the origin to the second mirror\n"
   ]
  },
  {
   "cell_type": "markdown",
   "metadata": {},
   "source": [
    "## 5. More advanced examples <a class=\"anchor\" id=\"5\"></a>\n",
    "\n",
    "In this section there are more elaborated examples involving problems in optics in order to show all the potential of *pyOpTools*. \n",
    "\n",
    "1. Diffraction grating\n",
    "\n",
    "2. Autocollimator\n",
    "\n",
    "3. Air spaced triplet telescope objective\n",
    "\n",
    "4. Comparison between a spherical and an aspheric lens\n",
    "\n",
    "5. Binocular\n",
    "\n",
    "6. Correcting aberrations using a diffraction grating\n",
    "\n",
    "7. Creating a hologram\n"
   ]
  },
  {
   "cell_type": "markdown",
   "metadata": {},
   "source": [
    "### 5.1 Diffraction grating <a class=\"anchor\" id=\"51\"></a>\n",
    "\n",
    "In section 2.5 diffraction grattings were introduced. Now we create, visualize and collect data from a polycromatic light beam that interacts with a diffraction grating."
   ]
  },
  {
   "cell_type": "code",
   "execution_count": 43,
   "metadata": {},
   "outputs": [
    {
     "name": "stdout",
     "output_type": "stream",
     "text": [
      "%pylab is deprecated, use %matplotlib inline and import the required libraries.\n",
      "Populating the interactive namespace from numpy and matplotlib\n"
     ]
    },
    {
     "name": "stderr",
     "output_type": "stream",
     "text": [
      "/home/rdg/apps/miniconda3/envs/pyoptools-dev2/lib/python3.10/site-packages/IPython/core/magics/pylab.py:162: UserWarning: pylab import has clobbered these variables: ['lcm', 'sqrt', 'ceil', 'floor', 'fmod', 'isclose', 'isnan', 'exp', 'isfinite', 'gcd', 'hypot', 'nextafter', 'trunc', 'inf', 'radians', 'degrees', 'modf', 'pi', 'sinh', 'Polygon', 'remainder', 'prod', 'log2', 'log10', 'e', 'cross', 'sin', 'tanh', 'copysign', 'cosh', 'isinf', 'unwrap', 'log', 'expm1', 'fabs', 'gamma', 'cos', 'ldexp', 'tan', 'log1p', 'nan', 'frexp']\n",
      "`%matplotlib` prevents importing * from pylab and numpy\n",
      "  warn(\"pylab import has clobbered these variables: %s\"  % clobbered +\n"
     ]
    },
    {
     "data": {
      "application/vnd.jupyter.widget-view+json": {
       "model_id": "1879f1e5c63843869e31e9deb46e26b8",
       "version_major": 2,
       "version_minor": 0
      },
      "text/plain": [
       "Renderer(camera=PerspectiveCamera(aspect=1.2, children=(DirectionalLight(intensity=0.7, position=(0.0, 1000.0,…"
      ]
     },
     "metadata": {},
     "output_type": "display_data"
    },
    {
     "data": {
      "image/png": "[encoded data removed]",
      "text/plain": [
       "<Figure size 640x480 with 1 Axes>"
      ]
     },
     "metadata": {},
     "output_type": "display_data"
    }
   ],
   "source": [
    "d=0.005 #Distancee between adjacent sources on the grating in mm\n",
    "    \n",
    "G=RPPMask(shape=Triangular(coord=((-15,15),(5,-20),(18,12))), phm=poly2d([0,0,2*pi*1/d,0,]),M=[-1])#,0,-1,-2])\n",
    "\n",
    "OC=Component(surflist=[(G, (0, 0, 0), (0, 0, 0))])\n",
    "\n",
    "C=CCD(size=(10,50))\n",
    "\n",
    "S=System(complist=[(OC,(0,0,20),(0,0,0)),(C,(0,0,120),(0,0,0))],n=1)\n",
    "\n",
    "r=[]\n",
    "#Test using many wavelengths\n",
    "for w in (.4,.45,.5,.53,.6,.65,.7):\n",
    "    \n",
    "    r.append(Ray(wavelength=w)) #standard rays of different wavelength\n",
    "\n",
    "\n",
    "S.ray_add(r)\n",
    "S.propagate()\n",
    "\n",
    "%pylab inline\n",
    "display(Plot3D(S,center=(0,0,60), size=(180,150),scale=3,rot=[(0,pi/2.3,0)]))\n",
    "spot_diagram_c(C)"
   ]
  },
  {
   "cell_type": "markdown",
   "metadata": {},
   "source": [
    "### 5.2 Autocollimator <a class=\"anchor\" id=\"52\"></a>\n",
    "\n",
    "Autocollimators are used to measure small angles over long distances. In this example we intend to measure the relative angle between two mirrors using an autocollimation system.\n",
    "\n"
   ]
  },
  {
   "cell_type": "code",
   "execution_count": 44,
   "metadata": {},
   "outputs": [
    {
     "name": "stderr",
     "output_type": "stream",
     "text": [
      "/home/rdg/repos/pyoptools/pyoptools/raytrace/_comp_lib/cube.py:149: DeprecationWarning: This class will be deprecated (the spelling is not correct) . Please fix your code by using BeamSplittingCube instead\n",
      "  warnings.warn(\n",
      "/home/rdg/apps/miniconda3/envs/pyoptools-dev2/lib/python3.10/site-packages/ijson/compat.py:48: DeprecationWarning: \n",
      "ijson works by reading bytes, but a string reader has been given instead. This\n",
      "probably, but not necessarily, means a file-like object has been opened in text\n",
      "mode ('t') rather than binary mode ('b').\n",
      "\n",
      "An automatic conversion is being performed on the fly to continue, but on the\n",
      "other hand this creates unnecessary encoding/decoding operations that decrease\n",
      "the efficiency of the system. In the future this automatic conversion will be\n",
      "removed, and users will receive errors instead of this warning. To avoid this\n",
      "problem make sure file-like objects are opened in binary mode instead of text\n",
      "mode.\n",
      "\n",
      "  warnings.warn(_str_vs_bytes_warning, DeprecationWarning)\n",
      "/home/rdg/repos/pyoptools/pyoptools/raytrace/mat_lib/mat_eq.py:206: DeprecationWarning: `np.float` is a deprecated alias for the builtin `float`. To silence this warning, use `float` by itself. Doing this will not modify any behavior and is safe. If you specifically wanted the numpy scalar type, use `np.float64` here.\n",
      "Deprecated in NumPy 1.20; for more details and guidance: https://numpy.org/devdocs/release/1.20.0-notes.html#deprecations\n",
      "  coef = numpy.fromiter(c[\"coefficients\"].split(), dtype=numpy.float)\n"
     ]
    }
   ],
   "source": [
    "# Autocollimator with a plane mirror\n",
    "\n",
    "SA=0.005 # small angle in radians -less than 0.01rad\n",
    "\n",
    "BS=BeamSplitingCube(size=25,reflectivity=.5,material=1.) \n",
    "L=library.Edmund.get(\"32494\")\n",
    "M1=Component(surflist=[(Plane(shape=Rectangular((25,25)) ,reflectivity=0.5),(0,0,0),(0,0,0))])\n",
    "M2=Component(surflist=[(Plane(shape=Rectangular((25,25)) ,reflectivity=1),(0,0,0),(0,0,0))])\n",
    "\n",
    "C=CCD()\n",
    "\n",
    "#There is a measure problem, if the angle is too small the cavity gets resonant\n",
    "S=System(complist=[(C,(20,0,20),(0,pi/2,0)),\n",
    "                   (BS,(0,0,20),(0,0,0)),\n",
    "                   (L,(0,0,150),(0,-pi,0)),\n",
    "                   (M1,(0,0,170),(0,0,0)),(M2,(0,0,570),(SA,0,0))],n=1.)\n",
    "R=point_source_c(span=(0.04,0.04), num_rays=(2,2), wavelength=.65)\n",
    "\n",
    "S.ray_add(R)\n",
    "S.propagate()\n"
   ]
  },
  {
   "cell_type": "code",
   "execution_count": 45,
   "metadata": {},
   "outputs": [
    {
     "name": "stdout",
     "output_type": "stream",
     "text": [
      "%pylab is deprecated, use %matplotlib inline and import the required libraries.\n",
      "Populating the interactive namespace from numpy and matplotlib\n"
     ]
    },
    {
     "name": "stderr",
     "output_type": "stream",
     "text": [
      "/home/rdg/apps/miniconda3/envs/pyoptools-dev2/lib/python3.10/site-packages/IPython/core/magics/pylab.py:162: UserWarning: pylab import has clobbered these variables: ['SA']\n",
      "`%matplotlib` prevents importing * from pylab and numpy\n",
      "  warn(\"pylab import has clobbered these variables: %s\"  % clobbered +\n",
      "/home/rdg/apps/miniconda3/envs/pyoptools-dev2/lib/python3.10/site-packages/ipywidgets/widgets/widget.py:443: DeprecationWarning: Passing unrecognized arguments to super(MeshPhongMaterial).__init__(ambient='#050505').\n",
      "object.__init__() takes exactly one argument (the instance to initialize)\n",
      "This is deprecated in traitlets 4.2.This error will be raised in a future release of traitlets.\n",
      "  super().__init__(**kwargs)\n"
     ]
    },
    {
     "data": {
      "application/vnd.jupyter.widget-view+json": {
       "model_id": "486c7c6e3dcb4566a8accabc9a94330d",
       "version_major": 2,
       "version_minor": 0
      },
      "text/plain": [
       "Renderer(camera=PerspectiveCamera(aspect=6.0, children=(DirectionalLight(intensity=0.7, position=(0.0, 1000.0,…"
      ]
     },
     "metadata": {},
     "output_type": "display_data"
    },
    {
     "data": {
      "image/png": "[encoded data removed]",
      "text/plain": [
       "<Figure size 640x480 with 1 Axes>"
      ]
     },
     "metadata": {},
     "output_type": "display_data"
    }
   ],
   "source": [
    "%pylab inline\n",
    "display(Plot3D(S,center=(0,0,300), size=(600,100),scale=2,rot=[(0,0,-3*pi/8),(0,3*pi/8,0)]))\n",
    "spot_diagram_c(C)\n"
   ]
  },
  {
   "cell_type": "code",
   "execution_count": 23,
   "metadata": {},
   "outputs": [
    {
     "name": "stdout",
     "output_type": "stream",
     "text": [
      "The measured angle is SA=\n"
     ]
    },
    {
     "data": {
      "text/plain": [
       "(None, 0.005006011343033137)"
      ]
     },
     "execution_count": 23,
     "metadata": {},
     "output_type": "execute_result"
    }
   ],
   "source": [
    "# Calculating the small angle SA from data\n",
    "\n",
    "d=C.get_optical_path_data()[1][0]-C.get_optical_path_data()[1][1]\n",
    "\n",
    "print('The measured angle is SA='), (d/(150*2))\n",
    "\n"
   ]
  },
  {
   "cell_type": "markdown",
   "metadata": {},
   "source": [
    "### 5.3 Air spaced triplet telescope objective <a class=\"anchor\" id=\"53\"></a>\n",
    "\n",
    "This example has been taken from the book *Warren J. Smith, Modern optical engineering. Fourth edition; chapter 19, p534*. In this chapter several lens designs are studied."
   ]
  },
  {
   "cell_type": "code",
   "execution_count": 46,
   "metadata": {},
   "outputs": [
    {
     "data": {
      "application/vnd.jupyter.widget-view+json": {
       "model_id": "ff2634ecaa744ed2b3a1634e475b10f9",
       "version_major": 2,
       "version_minor": 0
      },
      "text/plain": [
       "Renderer(camera=PerspectiveCamera(aspect=2.142857142857143, children=(DirectionalLight(intensity=0.7, position…"
      ]
     },
     "metadata": {},
     "output_type": "display_data"
    },
    {
     "name": "stdout",
     "output_type": "stream",
     "text": [
      "nan\n"
     ]
    }
   ],
   "source": [
    "## Air spaced triplet telescope objective - \n",
    "\n",
    "L1=SphericalLens(radius=15,curvature_s1=1/50.098,curvature_s2=-1/983.420,thickness=4.500,material=material.schott[\"N-BK7\"])\n",
    "L2=SphericalLens(radius=15,curvature_s1=1/56.671,curvature_s2=-1/171.150,thickness=4.500,material=material.schott[\"N-BK7\"])\n",
    "L3=SphericalLens(radius=10,curvature_s1=-1/97.339,curvature_s2=1/81.454,thickness=3.500,material=material.schott[\"N-SF1\"])\n",
    "\n",
    "OA=Ray(pos=(0,0,-10000),dir=(0,0,1),wavelength=.55) # Optical axis\n",
    "\n",
    "C=CCD(size=(10,10))\n",
    "\n",
    "S=System(complist=[(L1,(0,0,100),(0,0,0)),(L2,(0,0,104.6),(0,0,0)),(L3,(0,0,114.171),(0,0,0)), \n",
    "                   (C,(0,0,191.053),(0,0,0))],n=1)\n",
    "\n",
    "\n",
    "PB=parallel_beam_c(origin=(0,0,50),direction=(0,0,0),size=(15,15),num_rays=(15,15),wavelength=0.55)\n",
    "\n",
    "S.ray_add(PB)\n",
    "S.ray_add(PB[7])\n",
    "S.ray_add(PB[8])\n",
    "S.propagate()\n",
    "display(Plot3D(S,center=(0,0,140),size=(150,70),scale=8,rot=[(0,pi/2.2,0)]))\n",
    "\n",
    "\n",
    "# To check if the simulation is correct we calculate the focal distance as the distance between \n",
    "# the primary principal plane and the paraxial focal point. (According to the book the focal length is 100mm)\n",
    "\n",
    "f=(nearest_points(PB[110].get_final_rays()[0],PB[115].get_final_rays()[0])[0][2])-(find_ppp(S, OA)[2])\n",
    "print(f)\n"
   ]
  },
  {
   "cell_type": "markdown",
   "metadata": {},
   "source": [
    "### 5.4 Comparison between a spherical and an aspheric lens <a class=\"anchor\" id=\"54\"></a>\n",
    "\n",
    "In this example we compare a spherical to an aspherical lens of the same focal length (100mm). \n",
    "\n",
    "First we localize the plane of the circle of least confusion by minimizing the standard deviation of the x coordinate of the hit points using the *scypy* method *fmin*. Then we compare the spot diagrams and the standard deviations in the plane of the circle of least confusion."
   ]
  },
  {
   "cell_type": "code",
   "execution_count": 47,
   "metadata": {},
   "outputs": [],
   "source": [
    "# Finding the plane of the circle of least confusion\n",
    "\n",
    "def CircleSph(lp):\n",
    "    L=library.Edmund.get(\"45129\")\n",
    "    CSph=CCD(size=(3,3))\n",
    "\n",
    "    SSph=System(complist=[(L1,(0,0,20),(0,0,0)),(CSph,(0,0,lp),(0,0,0))],n=1)\n",
    "    PB= parallel_beam_c(size=(1.5,1.5),num_rays=(5,5), wavelength=.650)\n",
    "\n",
    "    SSph.ray_add(PB)\n",
    "    SSph.propagate()\n",
    "    X,Y,Z=CSph.get_optical_path_data()\n",
    "    return array(X).std()"
   ]
  },
  {
   "cell_type": "code",
   "execution_count": 48,
   "metadata": {},
   "outputs": [
    {
     "data": {
      "text/plain": [
       "0.4984511747165015"
      ]
     },
     "execution_count": 48,
     "metadata": {},
     "output_type": "execute_result"
    }
   ],
   "source": [
    "# Seed\n",
    "CircleSph(25)"
   ]
  },
  {
   "cell_type": "code",
   "execution_count": 49,
   "metadata": {},
   "outputs": [
    {
     "name": "stderr",
     "output_type": "stream",
     "text": [
      "/tmp/ipykernel_314377/3628558417.py:7: DeprecationWarning: setting an array element with a sequence. This was supported in some cases where the elements are arrays with a single element. For example `np.array([1, np.array([2])], dtype=int)`. In the future this will raise the same ValueError as `np.array([1, [2]], dtype=int)`.\n",
      "  SSph=System(complist=[(L1,(0,0,20),(0,0,0)),(CSph,(0,0,lp),(0,0,0))],n=1)\n"
     ]
    },
    {
     "name": "stdout",
     "output_type": "stream",
     "text": [
      "Optimization terminated successfully.\n",
      "         Current function value: 0.000019\n",
      "         Iterations: 25\n",
      "         Function evaluations: 50\n"
     ]
    },
    {
     "data": {
      "text/plain": [
       "array([112.19581604])"
      ]
     },
     "execution_count": 49,
     "metadata": {},
     "output_type": "execute_result"
    }
   ],
   "source": [
    "from scipy.optimize import fmin\n",
    "fmin(CircleSph,25)"
   ]
  },
  {
   "cell_type": "code",
   "execution_count": 50,
   "metadata": {},
   "outputs": [
    {
     "data": {
      "application/vnd.jupyter.widget-view+json": {
       "model_id": "521d9554c08d4b34b3ffba7c44005338",
       "version_major": 2,
       "version_minor": 0
      },
      "text/plain": [
       "Renderer(camera=PerspectiveCamera(aspect=2.0, children=(DirectionalLight(intensity=0.7, position=(0.0, 1000.0,…"
      ]
     },
     "metadata": {},
     "output_type": "display_data"
    }
   ],
   "source": [
    "#Spherical lens\n",
    "\n",
    "PB= parallel_beam_c(size=(1.5,1.5),num_rays=(5,5), wavelength=.650)\n",
    "L1=library.Edmund.get(\"45129\") #f=6 r= 1.5\n",
    "\n",
    "CSph=CCD(size=(3,3))\n",
    "\n",
    "\n",
    "SSph=System(complist=[(L1,(0,0,20),(0,0,0)),(CSph,(0,0,26.11808777),(0,0,0))],n=1)\n",
    "\n",
    "SSph.ray_add(PB)\n",
    "SSph.propagate()\n",
    "\n",
    "display(Plot3D(SSph,center=(0,0,20), size=(40,20),scale=16,rot=[(0,pi/2.1,0)]))"
   ]
  },
  {
   "cell_type": "code",
   "execution_count": 54,
   "metadata": {},
   "outputs": [],
   "source": [
    "## Definition of the aspheric lens\n",
    "\n",
    "R=2.75\n",
    "k=-0.6139160\n",
    "A2=0\n",
    "A4=5.8891900E-04\n",
    "A6=-1.7660200E-05\n",
    "A8=1.0102500E-05\n",
    "A10=-3.9148700E-06\n",
    "\n",
    "\n",
    "r2=poly2d((0,0,0,1.,0,1.))\n",
    "r4=r2*r2\n",
    "r6=r4*r2\n",
    "r8=r4*r4\n",
    "r10=r8*r2\n",
    "\n",
    "poly=A2*r2+A4*r4+ A6*r6 +A8*r8 +A10*r10\n",
    "\n",
    "asf2=Aspherical(Kx=k, Ky=k, Ax=1./R,Ay=1./R, shape=Circular(radius=2.5),\n",
    "                                poly=poly)\n",
    "\n",
    "R=-3.1885400\n",
    "k=-12.6638600\n",
    "\n",
    "A2=0\n",
    "A4=1.2458340e-02\n",
    "A6=-3.7119450e-03\n",
    "A8=5.1223910e-04\n",
    "A10=-3.1085780e-05\n",
    "poly=A2*r2+A4*r4+ A6*r6 +A8*r8 +A10*r10\n",
    "\n",
    "asf1=Aspherical(Kx=k, Ky=k, Ax=1./R,Ay=1./R, shape=Circular(radius=2.5),\n",
    "                                poly=poly)\n",
    "\n",
    "\n",
    "AS=Component(surflist=[(asf2, (0, 0, 0), (0, 0, 0)), (asf1, (0, 0, 2.8+.35), (0,0, 0))], material=1.58913)\n"
   ]
  },
  {
   "cell_type": "code",
   "execution_count": 55,
   "metadata": {},
   "outputs": [],
   "source": [
    "# Finding the plane of the circle of least confusion\n",
    "\n",
    "def CircleAsph(lp):\n",
    "    CAsph=CCD(size=(3,3))\n",
    "\n",
    "    SAsph=System(complist=[(AS,(0,0,20),(0,0,0)),(CAsph,(0,0,lp),(0,0,0))],n=1)\n",
    "    PB= parallel_beam_c(size=(2,2),num_rays=(5,5), wavelength=.650)\n",
    "\n",
    "    SAsph.ray_add(PB)\n",
    "    SAsph.propagate()\n",
    "    X,Y,Z=CAsph.get_optical_path_data()\n",
    "    return array(X).std()"
   ]
  },
  {
   "cell_type": "code",
   "execution_count": 56,
   "metadata": {},
   "outputs": [
    {
     "data": {
      "text/plain": [
       "0.011224380388868025"
      ]
     },
     "execution_count": 56,
     "metadata": {},
     "output_type": "execute_result"
    }
   ],
   "source": [
    "CircleAsph(25)"
   ]
  },
  {
   "cell_type": "code",
   "execution_count": 57,
   "metadata": {},
   "outputs": [
    {
     "name": "stderr",
     "output_type": "stream",
     "text": [
      "/tmp/ipykernel_314377/2059152759.py:6: DeprecationWarning: setting an array element with a sequence. This was supported in some cases where the elements are arrays with a single element. For example `np.array([1, np.array([2])], dtype=int)`. In the future this will raise the same ValueError as `np.array([1, [2]], dtype=int)`.\n",
      "  SAsph=System(complist=[(AS,(0,0,20),(0,0,0)),(CAsph,(0,0,lp),(0,0,0))],n=1)\n"
     ]
    },
    {
     "name": "stdout",
     "output_type": "stream",
     "text": [
      "Optimization terminated successfully.\n",
      "         Current function value: 0.000543\n",
      "         Iterations: 15\n",
      "         Function evaluations: 30\n"
     ]
    },
    {
     "data": {
      "text/plain": [
       "array([24.95140076])"
      ]
     },
     "execution_count": 57,
     "metadata": {},
     "output_type": "execute_result"
    }
   ],
   "source": [
    "from scipy.optimize import fmin\n",
    "fmin(CircleAsph,25)"
   ]
  },
  {
   "cell_type": "code",
   "execution_count": 58,
   "metadata": {},
   "outputs": [
    {
     "data": {
      "application/vnd.jupyter.widget-view+json": {
       "model_id": "6b45f83a548a4effa660fa7552881b78",
       "version_major": 2,
       "version_minor": 0
      },
      "text/plain": [
       "Renderer(camera=PerspectiveCamera(aspect=2.0, children=(DirectionalLight(intensity=0.7, position=(0.0, 1000.0,…"
      ]
     },
     "execution_count": 58,
     "metadata": {},
     "output_type": "execute_result"
    }
   ],
   "source": [
    "# Visualization of the aspheric lens\n",
    "\n",
    "PB= parallel_beam_c(size=(2,2),num_rays=(5,5), wavelength=.650)\n",
    "\n",
    "CAsph=CCD(size=(3,3))\n",
    "\n",
    "SAsph=System(complist=[(AS,(0,0,20),(0,0,0)),(CAsph,(0,0,24.95140076),(0,0,0))],n=1)\n",
    "\n",
    "SAsph.ray_add(PB)\n",
    "SAsph.propagate()\n",
    "\n",
    "Plot3D(SAsph,center=(0,0,20), size=(40,20),scale=16,rot=[(0,pi/2.1,0)])"
   ]
  },
  {
   "cell_type": "code",
   "execution_count": 34,
   "metadata": {},
   "outputs": [
    {
     "data": {
      "image/png": "[encoded data removed]",
      "text/plain": [
       "<Figure size 640x480 with 1 Axes>"
      ]
     },
     "metadata": {},
     "output_type": "display_data"
    },
    {
     "data": {
      "image/png": "[encoded data removed]",
      "text/plain": [
       "<Figure size 640x480 with 1 Axes>"
      ]
     },
     "metadata": {},
     "output_type": "display_data"
    }
   ],
   "source": [
    "# The circle of least confusion is about 10 times smaller when using the aspheric lens\n",
    "spot_diagram_c(CSph)\n",
    "figure()\n",
    "spot_diagram_c(CAsph)"
   ]
  },
  {
   "cell_type": "markdown",
   "metadata": {},
   "source": [
    "### 5.5 Binocular  design <a class=\"anchor\" id=\"55\"></a>\n",
    "This example has been inspired by the book *Fischer, Tadic-Galeb, Yoder.  Optical system design. Second edition; chapter 22, p642* where the design of a binocular is studied. Although the book does not provide any specific optical component to be used in the design, it does provide guidelines on how to choose and locate the optical components.\n",
    "\n",
    "The binocular proposed in the book is a $7 \\times 50$ binocular. It is recommended to use an achromatic doublet of 200mm of focal length and 50mm of diameter as an objective and a double Porro prism of SK5 glass. It is suggested to leave at least 40mm from the exit surface of the second prism to the image plane. A symmetrical eyepiece, composed of two achromatic  doublets, is suggested. The suggested eyepiece focal length is f is 30mm.\n",
    "\n",
    "The example is developed step by step. The binocular has been designed using *pyOpTools* predefined components and lenses from the Edmund Optics Inc catalogue."
   ]
  },
  {
   "cell_type": "code",
   "execution_count": 59,
   "metadata": {},
   "outputs": [
    {
     "data": {
      "application/vnd.jupyter.widget-view+json": {
       "model_id": "ffe85a8ed5c945d8924016cc7098f4ee",
       "version_major": 2,
       "version_minor": 0
      },
      "text/plain": [
       "Renderer(camera=PerspectiveCamera(aspect=3.5714285714285716, children=(DirectionalLight(intensity=0.7, positio…"
      ]
     },
     "metadata": {},
     "output_type": "display_data"
    },
    {
     "name": "stdout",
     "output_type": "stream",
     "text": [
      "nan\n"
     ]
    }
   ],
   "source": [
    "# Lenses choice: We look in the catalogue for the appropriate objective lens\n",
    "\n",
    "L1=library.Edmund.get(\"45179\") # f=200 r= 25\n",
    "\n",
    "OA=Ray(pos=(0,0,-10000),dir=(0,0,1),wavelength=.55) # Optical axis\n",
    "\n",
    "C=CCD(size=(10,10))\n",
    "\n",
    "S=System(complist=[(L1,(0,0,100),(0,pi,0)), (C,(0,0,320.053),(0,0,0))],n=1)\n",
    "\n",
    "PB=parallel_beam_c(origin=(0,0,50),direction=(0,0,0),size=(15,15),num_rays=(15,15),wavelength=.55)\n",
    "\n",
    "S.ray_add(PB)\n",
    "\n",
    "S.propagate()\n",
    "\n",
    "display(Plot3D(S,center=(0,0,180),size=(250,70),scale=4,rot=[(0,pi/2,0)]))\n",
    "\n",
    "f=(nearest_points(PB[7].get_final_rays()[0],PB[8].get_final_rays()[0])[0][2])-(find_ppp(S, OA)[2])\n",
    "print(f)"
   ]
  },
  {
   "cell_type": "code",
   "execution_count": 60,
   "metadata": {},
   "outputs": [
    {
     "data": {
      "application/vnd.jupyter.widget-view+json": {
       "model_id": "7fcb388a9a9a405c9ef05bf681bb4230",
       "version_major": 2,
       "version_minor": 0
      },
      "text/plain": [
       "Renderer(camera=PerspectiveCamera(aspect=1.6666666666666667, children=(DirectionalLight(intensity=0.7, positio…"
      ]
     },
     "metadata": {},
     "output_type": "display_data"
    },
    {
     "data": {
      "text/plain": [
       "(array([-40.        , -44.99999816, 195.6406639 ]),\n",
       " array([-40.        , -44.99999816, 195.6406639 ]),\n",
       " 2.1316282072803006e-14,\n",
       " False)"
      ]
     },
     "execution_count": 60,
     "metadata": {},
     "output_type": "execute_result"
    }
   ],
   "source": [
    "# Placing the objective and the Porro prism\n",
    "\n",
    "L1=library.Edmund.get(\"45179\") #f=200 r= 25\n",
    "\n",
    "RP1=RightAnglePrism(width=55,height=55,material=material.schott[\"N-SK5\"])\n",
    "RP2=RightAnglePrism(width=40,height=40,material=material.schott[\"N-SK5\"])\n",
    "\n",
    "CC=CCD(size=(50,50))\n",
    "\n",
    "S=System(complist=[(L1,(0,0,100),(0,0,0)), (RP1,(0,-22.5,150),(pi,-pi/4,pi/2)), (RP2,(-20,-40,140),(0,pi/4,0)),\n",
    "                   (CC,(-40,-46.41421356,  195.64187845),(0,0,0))],n=1)\n",
    "\n",
    "PB=parallel_beam_c(origin=(0,0,0),direction=(0,0,0),size=(15,15),num_rays=(15,15),wavelength=.55)\n",
    "\n",
    "S.ray_add(PB)\n",
    "S.propagate()\n",
    "\n",
    "display(Plot3D(S,center=(0,-30,140),size=(250,150),scale=5,rot=[(0,pi/2.,0),(pi/6,0,0)]))\n",
    "\n",
    "# Calculating the coordinates of the paraxial focal point\n",
    "nearest_points(PB[110].get_final_rays()[0],PB[115].get_final_rays()[0]) \n"
   ]
  },
  {
   "cell_type": "code",
   "execution_count": 61,
   "metadata": {},
   "outputs": [
    {
     "data": {
      "application/vnd.jupyter.widget-view+json": {
       "model_id": "7ba68d49b9c24da1a457c733a3ca1666",
       "version_major": 2,
       "version_minor": 0
      },
      "text/plain": [
       "Renderer(camera=PerspectiveCamera(aspect=2.0, children=(DirectionalLight(intensity=0.7, position=(0.0, 1000.0,…"
      ]
     },
     "metadata": {},
     "output_type": "display_data"
    },
    {
     "data": {
      "text/plain": [
       "(array([ -0.30309238,   0.16838465, 112.35047377]),\n",
       " array([ -0.22401066,   0.17423051, 112.32412988]),\n",
       " 0.08355891904301219,\n",
       " False)"
      ]
     },
     "execution_count": 61,
     "metadata": {},
     "output_type": "execute_result"
    }
   ],
   "source": [
    "# Looking for the right eyepiece configuration\n",
    "\n",
    "L2=library.Edmund.get(\"45175\") # f=30 ; r=10  \n",
    "\n",
    "CC=CCD(size=(50,50))\n",
    "S=System(complist=[(L2,(0,0,89.84),(0,pi,0)), (L2,(0,0,100),(0,0,0)), (CC,(0,0,1.18656541e+02),(0,0,0))],n=1)\n",
    "\n",
    "## The distance between the two doublets is equal to the total lense thickness\n",
    "\n",
    "PB=parallel_beam_c(origin=(0,0,0),direction=(0,0,0),size=(10,10),num_rays=(10,10),wavelength=.55)\n",
    "\n",
    "S.ray_add(PB)\n",
    "S.propagate()\n",
    "\n",
    "display(Plot3D(S,center=(0,0,90),size=(100,50),scale=5,rot=[(0,pi/2,0)]))\n",
    "\n",
    "#Distance between the center of the lense and the paraxial focal point\n",
    "nearest_points(PB[7].get_final_rays()[0],PB[8].get_final_rays()[0]) \n"
   ]
  },
  {
   "cell_type": "code",
   "execution_count": 63,
   "metadata": {},
   "outputs": [
    {
     "name": "stdout",
     "output_type": "stream",
     "text": [
      "%pylab is deprecated, use %matplotlib inline and import the required libraries.\n",
      "Populating the interactive namespace from numpy and matplotlib\n"
     ]
    },
    {
     "data": {
      "application/vnd.jupyter.widget-view+json": {
       "model_id": "a7885d11a26243f99d6fe9a69f40bcdd",
       "version_major": 2,
       "version_minor": 0
      },
      "text/plain": [
       "Renderer(camera=PerspectiveCamera(aspect=1.9230769230769231, children=(DirectionalLight(intensity=0.7, positio…"
      ]
     },
     "metadata": {},
     "output_type": "display_data"
    },
    {
     "data": {
      "image/png": "[encoded data removed]",
      "text/plain": [
       "<Figure size 640x480 with 1 Axes>"
      ]
     },
     "metadata": {},
     "output_type": "display_data"
    }
   ],
   "source": [
    "## Placing the eyepiece: Binocular 7x50\n",
    "\n",
    "L1=library.Edmund.get(\"45179\") #f=200 r= 25\n",
    "L2=library.Edmund.get(\"45175\") # f=30 ; r=10  \n",
    "\n",
    "\n",
    "RP1=RightAnglePrism(width=55,height=55,material=material.schott[\"N-SK5\"])\n",
    "RP2=RightAnglePrism(width=40,height=40,material=material.schott[\"N-SK5\"])\n",
    "\n",
    "\n",
    "CC=CCD(size=(50,50))\n",
    "\n",
    "S=System(complist=[(L1,(0,0,100),(0,0,0)), (RP1,(0,-22.5,150),(pi,-pi/4,pi/2)), (RP2,(-20,-40,140),(0,pi/4,0)), \n",
    "                   (L2,(-40,-46.41421356,195.64187847+12.32427176),(0,pi,0)), \n",
    "                   (L2,(-40,-46.41421356,195.64187847+12.32427176+10.16),(0,0,0)),\n",
    "                   (CC,(-40,-40,260),(0,0,0))],n=1)\n",
    "\n",
    "OA=Ray(pos=(0,0,100),dir=(0,0,10),intensity=100, wavelength=.55) # Optical axis\n",
    "PB=parallel_beam_c(origin=(0,0,0),direction=(0,0,0),size=(15,15),num_rays=(15,15),wavelength=.55)\n",
    "\n",
    "S.ray_add(OA)\n",
    "S.ray_add(PB)\n",
    "S.propagate()\n",
    "\n",
    "%pylab inline\n",
    "display(Plot3D(S,center=(0,-20,170),size=(250,130),scale=2,rot=[(0,pi/2.,0),(0,0,0)]))\n",
    "figure()\n",
    "spot_diagram_c(CC)\n"
   ]
  },
  {
   "cell_type": "markdown",
   "metadata": {},
   "source": [
    "### 5.6 Correcting aberrations using a diffraction grating <a class=\"anchor\" id=\"56\"></a>\n",
    "In this example we study a two lenses system which present aberrations and create a diffraction gratting to correct them. \n",
    "\n",
    "First we collect the optical path length map between the lenses of the optical system. Then we choose a focal point and propagate rays backwards from this focal point. We collect again the optical path length map inside the optical system. Then we approximate the optical path length maps to polynomials and add them to create an interference pattern used to define a diffraction grating. This diffraction grating corrects the aberrations. Finally we create an hologram using the diffraction grating."
   ]
  },
  {
   "cell_type": "code",
   "execution_count": null,
   "metadata": {},
   "outputs": [],
   "source": [
    "## Aberrated optical system:\n",
    "\n",
    "## We place a CCD named HOLO between the two lenses \n",
    "L2=SphericalLens(radius=25,curvature_s1=1./100.,curvature_s2=-1./100,thickness=10,material=material.schott[\"N-BK7\"])\n",
    "L3=SphericalLens(radius=25,curvature_s1=1./100.,curvature_s2=-1./100,thickness=10,material=material.schott[\"N-BK7\"])\n",
    "\n",
    "C=CCD()\n",
    "\n",
    "HOLO=CCD(size=(50,50))\n",
    "\n",
    "S=System(complist=[(L2,(0,0,100),(0,0,0)),(HOLO,(0,0,110),(0,0,0)),(L3,(0,0,120),(0,0,0)),(C,(0,0,215),(0,0,0)) ],n=1)\n",
    "\n",
    "R=point_source_p(origin=(0.,0.,0.),direction=(0.,0.,0),span=pi/14\n",
    "                   ,num_rays=(50,50),wavelength=0.470, label=\"blue\")\n",
    "\n",
    "S.ray_add(R)\n",
    "S.propagate()\n",
    "\n",
    "#The plot is too slow due the high amount of rays\n",
    "#Plot3D(S,center=(0,0,100),size=(250,100),scale=4,rot=[(0,pi/2.05,0)])"
   ]
  },
  {
   "cell_type": "code",
   "execution_count": null,
   "metadata": {},
   "outputs": [],
   "source": [
    "# We approximate the optical path length map with a polynomial\n",
    "\n",
    "pol1,err1=HOLO.get_optical_path_map_lsq(order=15) "
   ]
  },
  {
   "cell_type": "code",
   "execution_count": null,
   "metadata": {},
   "outputs": [],
   "source": [
    "## Now we make the beam propagate backwards from a point fi\n",
    "\n",
    "fi=210\n",
    "\n",
    "L2=SphericalLens(radius=25,curvature_s1=1./100.,curvature_s2=-1./100,thickness=10,material=material.schott[\"N-BK7\"])\n",
    "L3=SphericalLens(radius=25,curvature_s1=1./100.,curvature_s2=-1./100,thickness=10,material=material.schott[\"N-BK7\"])\n",
    "\n",
    "C=CCD()\n",
    "\n",
    "HOLO=CCD(size=(50,50))\n",
    "\n",
    "S=System(complist=[(L2,(0,0,100),(0,0,0)),(HOLO,(0,0,110),(0,0,0)),(L3,(0,0,120),(0,0,0)),(C,(0,0,0),(0,0,0)) ],n=1)\n",
    "\n",
    "R=point_source_p(origin=(0.,0.,fi),direction=(pi,0.,0),span=pi/14\n",
    "                   ,num_rays=(50,50),wavelength=0.470, label=\"blue\")\n",
    "\n",
    "S.ray_add(R)\n",
    "S.propagate()\n",
    "#The plot is too slow due the high amount of rays\n",
    "#Plot3D(S,center=(0,0,100),size=(250,100),scale=4,rot=[(0,pi/2.05,0)])"
   ]
  },
  {
   "cell_type": "code",
   "execution_count": null,
   "metadata": {},
   "outputs": [],
   "source": [
    "# We approximate the optical path length map with a polynomial\n",
    "\n",
    "pol2,err2=HOLO.get_optical_path_map_lsq(order=15) "
   ]
  },
  {
   "cell_type": "code",
   "execution_count": null,
   "metadata": {},
   "outputs": [],
   "source": [
    "# We add the polynomials\n",
    "\n",
    "%pylab inline\n",
    "grid=(2*pi/0.47e-3)*(-pol1-pol2)\n",
    "X,Y=meshgrid(linspace(-5,5,20),linspace(-5,5,20))\n",
    "\n",
    "Z=grid.eval(X,Y)\n",
    "imshow(Z,extent=(-5,5,-5,5));colorbar()"
   ]
  },
  {
   "cell_type": "code",
   "execution_count": null,
   "metadata": {},
   "outputs": [],
   "source": [
    "# Correcting aberrations: Creating and placing the diffraction grating\n",
    "\n",
    "G=RPPMask(shape=Rectangular(size=(50,50)), phm=(2*pi/0.47e-3)*(-pol1-pol2), M=[1])\n",
    "DG=Component(surflist=[(G, (0, 0, 0), (0, 0, 0))])\n",
    "\n",
    "fi=210\n",
    "\n",
    "L2=SphericalLens(radius=25,curvature_s1=1./100.,curvature_s2=-1./100,thickness=10,material=material.schott[\"N-BK7\"])\n",
    "L3=SphericalLens(radius=25,curvature_s1=1./100.,curvature_s2=-1./100,thickness=10,material=material.schott[\"N-BK7\"])\n",
    "\n",
    "C=CCD()\n",
    "\n",
    "S=System(complist=[(L2,(0,0,100),(0,0,0)),(DG,(0,0,110),(0,0,0)),(L3,(0,0,120),(0,0,0)),(C,(0,0,fi),(0,0,0))],n=1)\n",
    "\n",
    "R=point_source_p(origin=(0.,0.,0),direction=(0,0.,0),span=pi/14,num_rays=(10,10),wavelength=0.470, label=\"blue\")\n",
    "\n",
    "S.ray_add(R)\n",
    "S.propagate()\n",
    "Plot3D(S,center=(0,0,100),size=(250,100),scale=4,rot=[(0,pi/2.05,0)])\n"
   ]
  },
  {
   "cell_type": "markdown",
   "metadata": {},
   "source": [
    "### 5.7 Creating an hologram <a class=\"anchor\" id=\"57\"></a>\n",
    "Nowwe create an hologram from the diffraction gratting created above"
   ]
  },
  {
   "cell_type": "code",
   "execution_count": 64,
   "metadata": {},
   "outputs": [
    {
     "ename": "NameError",
     "evalue": "name 'pol1' is not defined",
     "output_type": "error",
     "traceback": [
      "\u001b[0;31m---------------------------------------------------------------------------\u001b[0m",
      "\u001b[0;31mNameError\u001b[0m                                 Traceback (most recent call last)",
      "Cell \u001b[0;32mIn [64], line 3\u001b[0m\n\u001b[1;32m      1\u001b[0m \u001b[38;5;66;03m# Hologram\u001b[39;00m\n\u001b[0;32m----> 3\u001b[0m holo\u001b[38;5;241m=\u001b[39m(\u001b[38;5;241m2\u001b[39m\u001b[38;5;241m*\u001b[39mpi\u001b[38;5;241m/\u001b[39m\u001b[38;5;241m.470e-3\u001b[39m)\u001b[38;5;241m*\u001b[39m(\u001b[38;5;241m-\u001b[39m\u001b[43mpol1\u001b[49m\u001b[38;5;241m-\u001b[39mpol2)\n\u001b[1;32m      5\u001b[0m X,Y\u001b[38;5;241m=\u001b[39mmeshgrid(linspace(\u001b[38;5;241m-\u001b[39m\u001b[38;5;241m25\u001b[39m,\u001b[38;5;241m25\u001b[39m,\u001b[38;5;241m1000\u001b[39m),linspace(\u001b[38;5;241m-\u001b[39m\u001b[38;5;241m25\u001b[39m,\u001b[38;5;241m25\u001b[39m,\u001b[38;5;241m1000\u001b[39m))\n\u001b[1;32m      7\u001b[0m figsize(\u001b[38;5;241m15\u001b[39m,\u001b[38;5;241m15\u001b[39m)\n",
      "\u001b[0;31mNameError\u001b[0m: name 'pol1' is not defined"
     ]
    }
   ],
   "source": [
    "# Hologram\n",
    "\n",
    "holo=(2*pi/.470e-3)*(-pol1-pol2)\n",
    "\n",
    "X,Y=meshgrid(linspace(-25,25,1000),linspace(-25,25,1000))\n",
    "\n",
    "figsize(15,15)\n",
    "imshow(holo.meval(X,Y)%(2*pi),extent=(-25,25,-25,25),cmap=\"gray\")"
   ]
  },
  {
   "cell_type": "code",
   "execution_count": null,
   "metadata": {},
   "outputs": [],
   "source": []
  },
  {
   "cell_type": "code",
   "execution_count": null,
   "metadata": {},
   "outputs": [],
   "source": []
  }
 ],
 "metadata": {
  "kernelspec": {
   "display_name": "Python 3 (ipykernel)",
   "language": "python",
   "name": "python3"
  },
  "language_info": {
   "codemirror_mode": {
    "name": "ipython",
    "version": 3
   },
   "file_extension": ".py",
   "mimetype": "text/x-python",
   "name": "python",
   "nbconvert_exporter": "python",
   "pygments_lexer": "ipython3",
   "version": "3.10.6"
  }
 },
 "nbformat": 4,
 "nbformat_minor": 4
}
