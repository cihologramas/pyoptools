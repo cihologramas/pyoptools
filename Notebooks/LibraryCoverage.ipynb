{
 "cells": [
  {
   "cell_type": "code",
   "execution_count": 19,
   "id": "acd5bf14-d55a-469e-b20b-a55be3185988",
   "metadata": {},
   "outputs": [],
   "source": [
    "from pyoptools.raytrace.library import library"
   ]
  },
  {
   "cell_type": "code",
   "execution_count": 20,
   "id": "4d62a2b0-612d-422d-95c2-793e73e5f385",
   "metadata": {},
   "outputs": [],
   "source": [
    "from collections import Counter"
   ]
  },
  {
   "cell_type": "code",
   "execution_count": null,
   "id": "c17b28de-06f2-4e11-b938-70ee3394275d",
   "metadata": {},
   "outputs": [],
   "source": []
  },
  {
   "cell_type": "code",
   "execution_count": 21,
   "id": "9c52c1ea-538c-4f18-86dc-b4c0ea4de72e",
   "metadata": {},
   "outputs": [
    {
     "name": "stdout",
     "output_type": "stream",
     "text": [
      "Counter({'Edmund : SphericalLens': 6391, 'Thorlabs : SphericalLens': 1524, 'Edmund : Doublet': 893, 'Thorlabs : CylindricalLens': 520, 'Thorlabs : Doublet': 270, 'Thorlabs : AirSpacedDoublet': 34, 'Edmund : AirSpacedDoublet': 14})\n"
     ]
    }
   ],
   "source": [
    "types_counter = Counter()\n",
    "\n",
    "libs = {\"Thorlabs\": library.Thorlabs, \"Edmund\": library.Edmund}\n",
    "\n",
    "optic_types = set()\n",
    "for libname, lib in libs.items():\n",
    "    for k, v in lib.items():\n",
    "        s = f\"{libname} : {v['type']}\"\n",
    "        types_counter.update({s: 1})\n",
    "\n",
    "print(types_counter)"
   ]
  },
  {
   "cell_type": "code",
   "execution_count": 22,
   "id": "dfaba276-3292-4d08-b2ae-927d98599b07",
   "metadata": {},
   "outputs": [
    {
     "data": {
      "text/plain": [
       "9646"
      ]
     },
     "execution_count": 22,
     "metadata": {},
     "output_type": "execute_result"
    }
   ],
   "source": [
    "types_counter.total()"
   ]
  },
  {
   "cell_type": "code",
   "execution_count": null,
   "id": "0f9fd0d9-5cd6-4f39-89f2-0246b999cdd8",
   "metadata": {},
   "outputs": [],
   "source": []
  }
 ],
 "metadata": {
  "kernelspec": {
   "display_name": "Python 3 (ipykernel)",
   "language": "python",
   "name": "python3"
  },
  "language_info": {
   "codemirror_mode": {
    "name": "ipython",
    "version": 3
   },
   "file_extension": ".py",
   "mimetype": "text/x-python",
   "name": "python",
   "nbconvert_exporter": "python",
   "pygments_lexer": "ipython3",
   "version": "3.10.6"
  }
 },
 "nbformat": 4,
 "nbformat_minor": 5
}
